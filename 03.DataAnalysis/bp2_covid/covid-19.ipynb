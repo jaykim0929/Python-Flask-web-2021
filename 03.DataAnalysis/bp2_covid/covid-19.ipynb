{
 "metadata": {
  "language_info": {
   "codemirror_mode": {
    "name": "ipython",
    "version": 3
   },
   "file_extension": ".py",
   "mimetype": "text/x-python",
   "name": "python",
   "nbconvert_exporter": "python",
   "pygments_lexer": "ipython3",
   "version": "3.8.3-final"
  },
  "orig_nbformat": 2,
  "kernelspec": {
   "name": "python3",
   "display_name": "Python 3",
   "language": "python"
  }
 },
 "nbformat": 4,
 "nbformat_minor": 2,
 "cells": [
  {
   "source": [
    "# covid-19 open API 이용 -> 데이터 획득 -> DB 저장"
   ],
   "cell_type": "markdown",
   "metadata": {}
  },
  {
   "source": [
    "import requests\n",
    "import pandas as pd\n",
    "from bs4 import BeautifulSoup "
   ],
   "cell_type": "code",
   "metadata": {},
   "execution_count": 3,
   "outputs": []
  },
  {
   "cell_type": "code",
   "execution_count": 4,
   "metadata": {},
   "outputs": [],
   "source": [
    "key_fd = open('gov_data_api_key.txt', mode='r')\n",
    "govapi_key = key_fd.read(100) \n",
    "key_fd.close()"
   ]
  },
  {
   "source": [
    "### 1. 시도발생 현황 region 테이블에 저장하기"
   ],
   "cell_type": "markdown",
   "metadata": {}
  },
  {
   "cell_type": "code",
   "execution_count": 34,
   "metadata": {},
   "outputs": [],
   "source": [
    "start_date = '20200301'\n",
    "end_date = '20201222'\n",
    "page = 1"
   ]
  },
  {
   "cell_type": "code",
   "execution_count": 35,
   "metadata": {},
   "outputs": [],
   "source": [
    "corona_url = 'http://openapi.data.go.kr/openapi/service/rest/Covid19/getCovid19SidoInfStateJson'\n",
    "url = f'{corona_url}?ServiceKey={govapi_key}&pageNo={page}&numOfRows=10&startCreateDt={start_date}&endCreateDt={end_date}'"
   ]
  },
  {
   "cell_type": "code",
   "execution_count": 36,
   "metadata": {},
   "outputs": [
    {
     "output_type": "stream",
     "name": "stdout",
     "text": [
      "5802\n"
     ]
    }
   ],
   "source": [
    "result = requests.get(url)\n",
    "soup = BeautifulSoup(result.text, 'xml')\n",
    "resultCode = soup.find('resultCode').get_text()\n",
    "if resultCode == '00':\n",
    "    print(soup.find('totalCount').string)\n",
    "elif resultCode == '99':\n",
    "    print(soup.find('resultMsg').string)"
   ]
  },
  {
   "cell_type": "code",
   "execution_count": 37,
   "metadata": {},
   "outputs": [
    {
     "output_type": "execute_result",
     "data": {
      "text/plain": [
       "                         등록시간 사망자   확진자 광역시도 전일대비  격리해제  격리중 지역발생 해외유입  10만명당  \\\n",
       "0     2020-12-22 14:41:34.444   1  2361   검역   18  1658  702    0   18      -   \n",
       "1     2020-12-22 14:41:34.444   0   271   제주   19   103  168   19    0  40.40   \n",
       "2     2020-12-22 14:41:34.443   3  1095   경남   18   768  324   18    0  32.58   \n",
       "3     2020-12-22 14:41:34.443  61  2094   경북   59  1721  312   58    1  78.65   \n",
       "4     2020-12-22 14:41:34.443   5   513   전남    5   425   83    4    1  27.51   \n",
       "...                       ...  ..   ...  ...  ...   ...  ...  ...  ...    ...   \n",
       "5797   2020-03-02 19:27:57.57   0         인천    0                        None   \n",
       "5798   2020-03-02 19:27:57.57   9         대구  469                        None   \n",
       "5799   2020-03-02 19:27:57.57   0         부산    3                        None   \n",
       "5800   2020-03-02 19:27:57.57   0         서울   10                        None   \n",
       "5801   2020-03-02 19:27:57.57  18         합계  586                        None   \n",
       "\n",
       "     ID               기준시간  수정시간  \n",
       "0        2020년 12월 22일 00시  null  \n",
       "1        2020년 12월 22일 00시  null  \n",
       "2        2020년 12월 22일 00시  null  \n",
       "3        2020년 12월 22일 00시  null  \n",
       "4        2020년 12월 22일 00시  null  \n",
       "...  ..                ...   ...  \n",
       "5797       2020년 3월 1일 16시  None  \n",
       "5798       2020년 3월 1일 16시  None  \n",
       "5799       2020년 3월 1일 16시  None  \n",
       "5800       2020년 3월 1일 16시  None  \n",
       "5801       2020년 3월 1일 16시  None  \n",
       "\n",
       "[5802 rows x 13 columns]"
      ],
      "text/html": "<div>\n<style scoped>\n    .dataframe tbody tr th:only-of-type {\n        vertical-align: middle;\n    }\n\n    .dataframe tbody tr th {\n        vertical-align: top;\n    }\n\n    .dataframe thead th {\n        text-align: right;\n    }\n</style>\n<table border=\"1\" class=\"dataframe\">\n  <thead>\n    <tr style=\"text-align: right;\">\n      <th></th>\n      <th>등록시간</th>\n      <th>사망자</th>\n      <th>확진자</th>\n      <th>광역시도</th>\n      <th>전일대비</th>\n      <th>격리해제</th>\n      <th>격리중</th>\n      <th>지역발생</th>\n      <th>해외유입</th>\n      <th>10만명당</th>\n      <th>ID</th>\n      <th>기준시간</th>\n      <th>수정시간</th>\n    </tr>\n  </thead>\n  <tbody>\n    <tr>\n      <th>0</th>\n      <td>2020-12-22 14:41:34.444</td>\n      <td>1</td>\n      <td>2361</td>\n      <td>검역</td>\n      <td>18</td>\n      <td>1658</td>\n      <td>702</td>\n      <td>0</td>\n      <td>18</td>\n      <td>-</td>\n      <td></td>\n      <td>2020년 12월 22일 00시</td>\n      <td>null</td>\n    </tr>\n    <tr>\n      <th>1</th>\n      <td>2020-12-22 14:41:34.444</td>\n      <td>0</td>\n      <td>271</td>\n      <td>제주</td>\n      <td>19</td>\n      <td>103</td>\n      <td>168</td>\n      <td>19</td>\n      <td>0</td>\n      <td>40.40</td>\n      <td></td>\n      <td>2020년 12월 22일 00시</td>\n      <td>null</td>\n    </tr>\n    <tr>\n      <th>2</th>\n      <td>2020-12-22 14:41:34.443</td>\n      <td>3</td>\n      <td>1095</td>\n      <td>경남</td>\n      <td>18</td>\n      <td>768</td>\n      <td>324</td>\n      <td>18</td>\n      <td>0</td>\n      <td>32.58</td>\n      <td></td>\n      <td>2020년 12월 22일 00시</td>\n      <td>null</td>\n    </tr>\n    <tr>\n      <th>3</th>\n      <td>2020-12-22 14:41:34.443</td>\n      <td>61</td>\n      <td>2094</td>\n      <td>경북</td>\n      <td>59</td>\n      <td>1721</td>\n      <td>312</td>\n      <td>58</td>\n      <td>1</td>\n      <td>78.65</td>\n      <td></td>\n      <td>2020년 12월 22일 00시</td>\n      <td>null</td>\n    </tr>\n    <tr>\n      <th>4</th>\n      <td>2020-12-22 14:41:34.443</td>\n      <td>5</td>\n      <td>513</td>\n      <td>전남</td>\n      <td>5</td>\n      <td>425</td>\n      <td>83</td>\n      <td>4</td>\n      <td>1</td>\n      <td>27.51</td>\n      <td></td>\n      <td>2020년 12월 22일 00시</td>\n      <td>null</td>\n    </tr>\n    <tr>\n      <th>...</th>\n      <td>...</td>\n      <td>...</td>\n      <td>...</td>\n      <td>...</td>\n      <td>...</td>\n      <td>...</td>\n      <td>...</td>\n      <td>...</td>\n      <td>...</td>\n      <td>...</td>\n      <td>...</td>\n      <td>...</td>\n      <td>...</td>\n    </tr>\n    <tr>\n      <th>5797</th>\n      <td>2020-03-02 19:27:57.57</td>\n      <td>0</td>\n      <td></td>\n      <td>인천</td>\n      <td>0</td>\n      <td></td>\n      <td></td>\n      <td></td>\n      <td></td>\n      <td>None</td>\n      <td></td>\n      <td>2020년 3월 1일 16시</td>\n      <td>None</td>\n    </tr>\n    <tr>\n      <th>5798</th>\n      <td>2020-03-02 19:27:57.57</td>\n      <td>9</td>\n      <td></td>\n      <td>대구</td>\n      <td>469</td>\n      <td></td>\n      <td></td>\n      <td></td>\n      <td></td>\n      <td>None</td>\n      <td></td>\n      <td>2020년 3월 1일 16시</td>\n      <td>None</td>\n    </tr>\n    <tr>\n      <th>5799</th>\n      <td>2020-03-02 19:27:57.57</td>\n      <td>0</td>\n      <td></td>\n      <td>부산</td>\n      <td>3</td>\n      <td></td>\n      <td></td>\n      <td></td>\n      <td></td>\n      <td>None</td>\n      <td></td>\n      <td>2020년 3월 1일 16시</td>\n      <td>None</td>\n    </tr>\n    <tr>\n      <th>5800</th>\n      <td>2020-03-02 19:27:57.57</td>\n      <td>0</td>\n      <td></td>\n      <td>서울</td>\n      <td>10</td>\n      <td></td>\n      <td></td>\n      <td></td>\n      <td></td>\n      <td>None</td>\n      <td></td>\n      <td>2020년 3월 1일 16시</td>\n      <td>None</td>\n    </tr>\n    <tr>\n      <th>5801</th>\n      <td>2020-03-02 19:27:57.57</td>\n      <td>18</td>\n      <td></td>\n      <td>합계</td>\n      <td>586</td>\n      <td></td>\n      <td></td>\n      <td></td>\n      <td></td>\n      <td>None</td>\n      <td></td>\n      <td>2020년 3월 1일 16시</td>\n      <td>None</td>\n    </tr>\n  </tbody>\n</table>\n<p>5802 rows × 13 columns</p>\n</div>"
     },
     "metadata": {},
     "execution_count": 37
    }
   ],
   "source": [
    "createDt_list,deathCnt_list,defCnt_list,gubun_list,incDec_list = [],[],[],[],[]\n",
    "isolClearCnt_list,isolIngCnt_list,localOccCnt_list,overFlowCnt_list = [],[],[],[]\n",
    "qurRate_list,seq_list,stdDay_list,updateDt_list = [],[],[],[]\n",
    "items = soup.find_all('item')\n",
    "for item in items:\n",
    "    createDt_list.append(item.find('createDt').string if item.find('createDt') else '')\n",
    "    deathCnt_list.append(item.find('deathCnt').string if item.find('deathCnt') else '')\n",
    "    defCnt_list.append(item.find('defCnt').string if item.find('defCnt') else '')\n",
    "    gubun_list.append(item.find('gubun').string if item.find('gubun') else '')\n",
    "    incDec_list.append(item.find('incDec').string if item.find('incDec') else '')\n",
    "    isolClearCnt_list.append(item.find('isolClearCnt').string if item.find('isolClearCnt') else '')\n",
    "    isolIngCnt_list.append(item.find('isolIngCnt').string if item.find('isolIngCnt') else '')\n",
    "    localOccCnt_list.append(item.find('localOccCnt').string if item.find('localOccCnt') else '')\n",
    "    overFlowCnt_list.append(item.find('overFlowCnt').string if item.find('overFlowCnt') else '')\n",
    "    qurRate_list.append(item.find('qurRate').string if item.find('qurRate') else '')\n",
    "    seq_list.append(item.find('seq_list').string if item.find('seq_list') else '')\n",
    "    stdDay_list.append(item.find('stdDay').string if item.find('stdDay') else '')\n",
    "    updateDt_list.append(item.find('updateDt').string if item.find('updateDt') else '')\n",
    "\n",
    "df = pd.DataFrame({\n",
    "    '등록시간':createDt_list, '사망자':deathCnt_list, '확진자':defCnt_list,\n",
    "    '광역시도':gubun_list, '전일대비':incDec_list, '격리해제':isolClearCnt_list, \n",
    "    '격리중':isolIngCnt_list, '지역발생':localOccCnt_list,'해외유입':overFlowCnt_list,\n",
    "    '10만명당':qurRate_list, 'ID':seq_list, '기준시간':stdDay_list, '수정시간':updateDt_list\n",
    "})\n",
    "df"
   ]
  },
  {
   "source": [
    "### 테이블 생성"
   ],
   "cell_type": "markdown",
   "metadata": {}
  },
  {
   "cell_type": "code",
   "execution_count": 39,
   "metadata": {},
   "outputs": [],
   "source": [
    "import sqlite3\n",
    "conn = sqlite3.connect('../db/covid.db')\n",
    "cur = conn.cursor()"
   ]
  },
  {
   "cell_type": "code",
   "execution_count": 40,
   "metadata": {},
   "outputs": [],
   "source": [
    "sql_table = '''create table if not exists region (\n",
    "  rid integer not null primary key autoincrement,\n",
    "  stdDay text not null,\n",
    "  deathCnt int not null,\n",
    "  defCnt int not null,\n",
    "  gubun text not null,\n",
    "  incDec int not null,\n",
    "  isolClearCnt int not null,\n",
    "  isolIngCnt int not null,\n",
    "  localOccCnt int not null,\n",
    "  overFlowCnt int not null,\n",
    "  qurRate float);\n",
    "'''\n",
    "cur.execute(sql_table)\n",
    "conn.commit()"
   ]
  },
  {
   "source": [
    "### 하나의 레코드를 DB에 삽입"
   ],
   "cell_type": "markdown",
   "metadata": {}
  },
  {
   "cell_type": "code",
   "execution_count": 41,
   "metadata": {},
   "outputs": [],
   "source": [
    "# 기준시간을 YYYY-MM-DD로 변환\n",
    "def change_date(x):\n",
    "    y = x.split(' ')\n",
    "    month = y[1][:-1] if len(y[1][:-1]) == 2 else '0'+y[1][:-1]\n",
    "    day = y[2][:-1] if len(y[2][:-1]) == 2 else '0'+y[2][:-1]\n",
    "    return f'{y[0][:-1]}-{month}-{day}'"
   ]
  },
  {
   "cell_type": "code",
   "execution_count": 42,
   "metadata": {},
   "outputs": [
    {
     "output_type": "execute_result",
     "data": {
      "text/plain": [
       "['2020-12-22', 1, 2361, '검역', 18, 1658, 702, 0, 18, None]"
      ]
     },
     "metadata": {},
     "execution_count": 42
    }
   ],
   "source": [
    "params = [change_date(df['기준시간'][0]), int(df['사망자'][0]), int(df['확진자'][0]), \n",
    "          df['광역시도'][0], int(df['전일대비'][0]), int(df['격리해제'][0]), \n",
    "          int(df['격리중'][0]), int(df['지역발생'][0]), int(df['해외유입'][0])]\n",
    "params.append(None if df['10만명당'][0]=='-' else float(df['10만명당'][0]))\n",
    "params"
   ]
  },
  {
   "cell_type": "code",
   "execution_count": 43,
   "metadata": {},
   "outputs": [],
   "source": [
    "sql_insert = '''insert into region(stdDay, deathCnt, defCnt, gubun, incDec, isolClearCnt,\n",
    "isolIngCnt, localOccCnt, overFlowCnt, qurRate) values(?,?,?,?,?,?,?,?,?,?);\n",
    "'''\n",
    "cur.execute(sql_insert, params)\n",
    "conn.commit()"
   ]
  },
  {
   "source": [
    "### 하루 데이터 19건을 DB에 삽입"
   ],
   "cell_type": "markdown",
   "metadata": {}
  },
  {
   "cell_type": "code",
   "execution_count": 44,
   "metadata": {},
   "outputs": [],
   "source": [
    "for i in range(19):\n",
    "    params = [change_date(df['기준시간'][i]), int(df['사망자'][i]), int(df['확진자'][i]), \n",
    "              df['광역시도'][i], int(df['전일대비'][i]), int(df['격리해제'][i]), \n",
    "              int(df['격리중'][i]), int(df['지역발생'][i]), int(df['해외유입'][i])]\n",
    "    params.append(None if df['10만명당'][i]=='-' else float(df['10만명당'][i]))\n",
    "    cur.execute(sql_insert, params)\n",
    "    conn.commit()"
   ]
  },
  {
   "source": [
    "### 최종적으로 3월1일부터 12월21까지 DB에 write 하는 코드"
   ],
   "cell_type": "markdown",
   "metadata": {}
  },
  {
   "cell_type": "code",
   "execution_count": 45,
   "metadata": {},
   "outputs": [],
   "source": [
    "from tqdm import tqdm_notebook"
   ]
  },
  {
   "cell_type": "code",
   "execution_count": 46,
   "metadata": {},
   "outputs": [],
   "source": [
    "sql_insert = '''insert into region(stdDay, deathCnt, defCnt, gubun, incDec, isolClearCnt,\n",
    "isolIngCnt, localOccCnt, overFlowCnt, qurRate) values(?,?,?,?,?,?,?,?,?,?);\n",
    "'''\n",
    "month_dict = {3:31, 4:30, 5:31, 6:30, 7:31, 8:31, 9:30, 10:31, 11:30, 12:23}"
   ]
  },
  {
   "cell_type": "code",
   "execution_count": 47,
   "metadata": {},
   "outputs": [
    {
     "output_type": "display_data",
     "data": {
      "text/plain": "HBox(children=(FloatProgress(value=0.0, max=10.0), HTML(value='')))",
      "application/vnd.jupyter.widget-view+json": {
       "version_major": 2,
       "version_minor": 0,
       "model_id": "a08ecbec199d4e9983d95d8cf084cee4"
      }
     },
     "metadata": {}
    },
    {
     "output_type": "stream",
     "name": "stdout",
     "text": [
      "\n"
     ]
    }
   ],
   "source": [
    "for k, v in tqdm_notebook(month_dict.items()):\n",
    "    month = str(k) if k >= 10 else f'0{k}'\n",
    "    for i in range(1, v+1):\n",
    "        day = str(i) if i >= 10 else f'0{i}'\n",
    "        date = f'2020{month}{day}'\n",
    "        #print(date)\n",
    "        page = 1\n",
    "        url = f'{corona_url}?ServiceKey={govapi_key}&pageNo={page}&numOfRows=10&startCreateDt={date}&endCreateDt={date}'\n",
    "        soup = BeautifulSoup(requests.get(url).text, 'xml')\n",
    "\n",
    "        items = soup.find_all('item')\n",
    "        item_count = len(items)\n",
    "        if item_count == 0:\n",
    "            continue\n",
    "        for index, item in enumerate(items):\n",
    "            if item_count > 30 and index >= int(item_count/2):\n",
    "                break\n",
    "            stdDay = change_date(item.find('stdDay').string)\n",
    "            deathCnt = int(item.find('deathCnt').string) if item.find('deathCnt') else 0\n",
    "            defCnt = int(item.find('defCnt').string) if item.find('defCnt') else 0\n",
    "            gubun = item.find('gubun').string\n",
    "            incDec = int(item.find('incDec').string)\n",
    "            isolClearCnt = int(item.find('isolClearCnt').string) if item.find('isolClearCnt') else 0\n",
    "            isolIngCnt = int(item.find('isolIngCnt').string) if item.find('isolIngCnt') else 0\n",
    "            localOccCnt = int(item.find('localOccCnt').string) if item.find('localOccCnt') else 0\n",
    "            overFlowCnt = int(item.find('overFlowCnt').string) if item.find('overFlowCnt') else 0\n",
    "            qurRate = None\n",
    "            if item.find('qurRate'):\n",
    "                qur = item.find('qurRate').string\n",
    "                if qur != None and qur.count('.') == 2:\n",
    "                    qur = qur[:-1]\n",
    "                #print(qur)\n",
    "                if qur != None and qur[0] in '0123456789':\n",
    "                    qurRate = float(qur)\n",
    "        \n",
    "            params = [stdDay, deathCnt, defCnt, gubun, incDec, isolClearCnt, isolIngCnt, \n",
    "                    localOccCnt, overFlowCnt, qurRate]\n",
    "            #print(params)\n",
    "            cur.execute(sql_insert, params)\n",
    "            conn.commit()"
   ]
  },
  {
   "cell_type": "code",
   "execution_count": 48,
   "metadata": {},
   "outputs": [],
   "source": [
    "cur.close()\n",
    "conn.close()"
   ]
  },
  {
   "source": [
    "## 연령별 성별 데이터"
   ],
   "cell_type": "markdown",
   "metadata": {}
  },
  {
   "cell_type": "code",
   "execution_count": 23,
   "metadata": {},
   "outputs": [],
   "source": [
    "start_date = '20200301'\n",
    "end_date = '20201220'\n",
    "page = 1"
   ]
  },
  {
   "cell_type": "code",
   "execution_count": 24,
   "metadata": {},
   "outputs": [],
   "source": [
    "corona_url = 'http://openapi.data.go.kr/openapi/service/rest/Covid19/getCovid19GenAgeCaseInfJson'\n",
    "url = f'{corona_url}?ServiceKey={govapi_key}&pageNo={page}&numOfRows=10&startCreateDt={start_date}&endCreateDt={end_date}'"
   ]
  },
  {
   "cell_type": "code",
   "execution_count": 25,
   "metadata": {},
   "outputs": [
    {
     "output_type": "stream",
     "name": "stdout",
     "text": [
      "2817\n"
     ]
    }
   ],
   "source": [
    "result = requests.get(url)\n",
    "soup = BeautifulSoup(result.text, 'xml')\n",
    "resultCode = soup.find('resultCode').get_text()\n",
    "if resultCode == '00':\n",
    "    print(soup.find('totalCount').string)\n",
    "elif resultCode == '99':\n",
    "    print(soup.find('resultMsg').string)"
   ]
  },
  {
   "cell_type": "code",
   "execution_count": 8,
   "metadata": {},
   "outputs": [
    {
     "output_type": "execute_result",
     "data": {
      "text/plain": [
       "eq><updateDt/></item><item><confCase>1401</confCase><confCaseRate>13.3</confCaseRate><createDt>2020-04-13 10:22:30.30</createDt><criticalRate>0.21</criticalRate><death>3</death><deathRate>1.38</deathRate><gubun>40-49</gubun><seq>130</seq><updateDt/></item><item><confCase>1932</confCase><confCaseRate>18.34</confCaseRate><createDt>2020-04-13 10:22:30.30</createDt><criticalRate>0.72</criticalRate><death>14</death><deathRate>6.45</deathRate><gubun>50-59</gubun><seq>129</seq><updateDt/></item><item><confCase>1335</confCase><confCaseRate>12.67</confCaseRate><createDt>2020-04-13 10:22:30.30</createDt><criticalRate>2.4</criticalRate><death>32</death><deathRate>14.75</deathRate><gubun>60-69</gubun><seq>128</seq><updateDt/></item><item><confCase>698</confCase><confCaseRate>6.62</confCaseRate><createDt>2020-04-13 10:22:30.30</createDt><criticalRate>9.17</criticalRate><death>64</death><deathRate>29.49</deathRate><gubun>70-79</gubun><seq>127</seq><updateDt/></item><item><confCase>476</confCase><confCaseRate>4.52</confCaseRate><createDt>2020-04-13 10:22:30.30</createDt><criticalRate>21.64</criticalRate><death>103</death><deathRate>47.47</deathRate><gubun>80 이상</gubun><seq>126</seq><updateDt/></item><item><confCase>6294</confCase><confCaseRate>59.73</confCaseRate><createDt>2020-04-13 10:22:30.30</createDt><criticalRate>1.62</criticalRate><death>102</death><deathRate>47.00</deathRate><gubun>여성</gubun><seq>125</seq><updateDt/></item><item><confCase>4243</confCase><confCaseRate>40.27</confCaseRate><createDt>2020-04-13 10:22:30.30</createDt><criticalRate>2.71</criticalRate><death>115</death><deathRate>53.00</deathRate><gubun>남성</gubun><seq>124</seq><updateDt/></item><item><confCase>130</confCase><confCaseRate>1.24</confCaseRate><createDt>2020-04-12 10:22:13.13</createDt><criticalRate>0</criticalRate><death>0</death><deathRate>0.00</deathRate><gubun>0-9</gubun><seq>123</seq><updateDt/></item><item><confCase>561</confCase><confCaseRate>5.34</confCaseRate><createDt>2020-04-12 10:22:13.13</createDt><criticalRate>0</criticalRate><death>0</death><deathRate>0.00</deathRate><gubun>10-19</gubun><seq>122</seq><updateDt/></item><item><confCase>2869</confCase><confCaseRate>27.29</confCaseRate><createDt>2020-04-12 10:22:13.13</createDt><criticalRate>0</criticalRate><death>0</death><deathRate>0.00</deathRate><gubun>20-29</gubun><seq>121</seq><updateDt/></item><item><confCase>1120</confCase><confCaseRate>10.65</confCaseRate><createDt>2020-04-12 10:22:13.13</createDt><criticalRate>0.09</criticalRate><death>1</death><deathRate>0.47</deathRate><gubun>30-39</gubun><seq>120</seq><updateDt/></item><item><confCase>1400</confCase><confCaseRate>13.32</confCaseRate><createDt>2020-04-12 10:22:13.13</createDt><criticalRate>0.21</criticalRate><death>3</death><deathRate>1.40</deathRate><gubun>40-49</gubun><seq>119</seq><updateDt/></item><item><confCase>1930</confCase><confCaseRate>18.36</confCaseRate><createDt>2020-04-12 10:22:13.13</createDt><criticalRate>0.73</criticalRate><death>14</death><deathRate>6.54</deathRate><gubun>50-59</gubun><seq>118</seq><updateDt/></item><item><confCase>1330</confCase><confCaseRate>12.65</confCaseRate><createDt>2020-04-12 10:22:13.13</createDt><criticalRate>2.33</criticalRate><death>31</death><deathRate>14.49</deathRate><gubun>60-69</gubun><seq>117</seq><updateDt/></item><item><confCase>697</confCase><confCaseRate>6.63</confCaseRate><createDt>2020-04-12 10:22:13.13</createDt><criticalRate>9.04</criticalRate><death>63</death><deathRate>29.44</deathRate><gubun>70-79</gubun><seq>116</seq><updateDt/></item><item><confCase>475</confCase><confCaseRate>4.52</confCaseRate><createDt>2020-04-12 10:22:13.13</createDt><criticalRate>21.47</criticalRate><death>102</death><deathRate>47.66</deathRate><gubun>80 이상</gubun><seq>115</seq><updateDt/></item><item><confCase>6283</confCase><confCaseRate>59.77</confCaseRate><createDt>2020-04-12 10:22:13.13</createDt><criticalRate>1.61</criticalRate><death>101</death><deathRate>47.20</deathRate><gubun>여성</gubun><seq>114</seq><updateDt/></item><item><confCase>4229</confCase><confCaseRate>40.23</confCaseRate><createDt>2020-04-12 10:22:13.13</createDt><criticalRate>2.67</criticalRate><death>113</death><deathRate>52.80</deathRate><gubun>남성</gubun><seq>113</seq><updateDt/></item><item><confCase>130</confCase><confCaseRate>1.24</confCaseRate><createDt>2020-04-11 10:29:51.51</createDt><criticalRate>0</criticalRate><death>0</death><deathRate>0.00</deathRate><gubun>0-9</gubun><seq>112</seq><updateDt/></item><item><confCase>558</confCase><confCaseRate>5.32</confCaseRate><createDt>2020-04-11 10:29:51.51</createDt><criticalRate>0</criticalRate><death>0</death><deathRate>0.00</deathRate><gubun>10-19</gubun><seq>111</seq><updateDt/></item><item><confCase>2856</confCase><confCaseRate>27.25</confCaseRate><createDt>2020-04-11 10:29:51.51</createDt><criticalRate>0</criticalRate><death>0</death><deathRate>0.00</deathRate><gubun>20-29</gubun><seq>110</seq><updateDt/></item><item><confCase>1115</confCase><confCaseRate>10.64</confCaseRate><createDt>2020-04-11 10:29:51.51</createDt><criticalRate>0.09</criticalRate><death>1</death><deathRate>0.47</deathRate><gubun>30-39</gubun><seq>109</seq><updateDt/></item><item><confCase>1399</confCase><confCaseRate>13.35</confCaseRate><createDt>2020-04-11 10:29:51.51</createDt><criticalRate>0.21</criticalRate><death>3</death><deathRate>1.42</deathRate><gubun>40-49</gubun><seq>108</seq><updateDt/></item><item><confCase>1926</confCase><confCaseRate>18.38</confCaseRate><createDt>2020-04-11 10:29:51.51</createDt><criticalRate>0.73</criticalRate><death>14</death><deathRate>6.64</deathRate><gubun>50-59</gubun><seq>107</seq><updateDt/></item><item><confCase>1327</confCase><confCaseRate>12.66</confCaseRate><createDt>2020-04-11 10:29:51.51</createDt><criticalRate>2.19</criticalRate><death>29</death><deathRate>13.74</deathRate><gubun>60-69</gubun><seq>106</seq><updateDt/></item><item><confCase>694</confCase><confCaseRate>6.62</confCaseRate><createDt>2020-04-11 10:29:51.51</createDt><criticalRate>9.08</criticalRate><death>63</death><deathRate>29.86</deathRate><gubun>70-79</gubun><seq>105</seq><updateDt/></item><item><confCase>475</confCase><confCaseRate>4.53</confCaseRate><createDt>2020-04-11 10:29:51.51</createDt><criticalRate>21.26</criticalRate><death>101</death><deathRate>47.87</deathRate><gubun>80 이상</gubun><seq>104</seq><updateDt/></item><item><confCase>6265</confCase><confCaseRate>59.78</confCaseRate><createDt>2020-04-11 10:29:51.51</createDt><criticalRate>1.6</criticalRate><death>100</death><deathRate>47.39</deathRate><gubun>여성</gubun><seq>103</seq><updateDt/></item><item><confCase>4215</confCase><confCaseRate>40.22</confCaseRate><createDt>2020-04-11 10:29:51.51</createDt><criticalRate>2.63</criticalRate><death>111</death><deathRate>52.61</deathRate><gubun>남성</gubun><seq>102</seq><updateDt/></item><item><confCase>129</confCase><confCaseRate>1.23</confCaseRate><createDt>2020-04-10 10:17:34.34</createDt><criticalRate>0</criticalRate><death>0</death><deathRate>0.00</deathRate><gubun>0-9</gubun><seq>101</seq><updateDt/></item><item><confCase>553</confCase><confCaseRate>5.29</confCaseRate><createDt>2020-04-10 10:17:34.34</createDt><criticalRate>0</criticalRate><death>0</death><deathRate>0.00</deathRate><gubun>10-19</gubun><seq>100</seq><updateDt/></item><item><confCase>2851</confCase><confCaseRate>27.28</confCaseRate><createDt>2020-04-10 10:17:34.34</createDt><criticalRate>0</criticalRate><death>0</death><deathRate>0.00</deathRate><gubun>20-29</gubun><seq>99</seq><updateDt/></item><item><confCase>1113</confCase><confCaseRate>10.65</confCaseRate><createDt>2020-04-10 10:17:34.34</createDt><criticalRate>0.09</criticalRate><death>1</death><deathRate>0.48</deathRate><gubun>30-39</gubun><seq>98</seq><updateDt/></item><item><confCase>1396</confCase><confCaseRate>13.36</confCaseRate><createDt>2020-04-10 10:17:34.34</createDt><criticalRate>0.21</criticalRate><death>3</death><deathRate>1.44</deathRate><gubun>40-49</gubun><seq>97</seq><updateDt/></item><item><confCase>1920</confCase><confCaseRate>18.37</confCaseRate><createDt>2020-04-10 10:17:34.34</createDt><criticalRate>0.68</criticalRate><death>13</death><deathRate>6.25</deathRate><gubun>50-59</gubun><seq>96</seq><updateDt/></item><item><confCase>1320</confCase><confCaseRate>12.63</confCaseRate><createDt>2020-04-10 10:17:34.34</createDt><criticalRate>2.12</criticalRate><death>28</death><deathRate>13.46</deathRate><gubun>60-69</gubun><seq>95</seq><updateDt/></item><item><confCase>694</confCase><confCaseRate>6.64</confCaseRate><createDt>2020-04-10 10:17:34.34</createDt><criticalRate>8.93</criticalRate><death>62</death><deathRate>29.81</deathRate><gubun>70-79</gubun><seq>94</seq><updateDt/></item><item><confCase>474</confCase><confCaseRate>4.54</confCaseRate><createDt>2020-04-10 10:17:34.34</createDt><criticalRate>21.31</criticalRate><death>101</death><deathRate>48.56</deathRate><gubun>80 이상</gubun><seq>93</seq><updateDt/></item><item><confCase>6250</confCase><confCaseRate>59.81</confCaseRate><createDt>2020-04-10 10:17:34.34</createDt><criticalRate>1.58</criticalRate><death>99</death><deathRate>47.60</deathRate><gubun>여성</gubun><seq>92</seq><updateDt/></item><item><confCase>4200</confCase><confCaseRate>40.19</confCaseRate><createDt>2020-04-10 10:17:34.34</createDt><criticalRate>2.6</criticalRate><death>109</death><deathRate>52.40</deathRate><gubun>남성</gubun><seq>91</seq><updateDt/></item><item><confCase>128</confCase><confCaseRate>1.23</confCaseRate><createDt>2020-04-09 10:23:55.55</createDt><criticalRate>0</criticalRate><death>0</death><deathRate>0.00</deathRate><gubun>0-9</gubun><seq>90</seq><updateDt/></item><item><confCase>552</confCase><confCaseRate>5.3</confCaseRate><createDt>2020-04-09 10:23:55.55</createDt><criticalRate>0</criticalRate><death>0</death><deathRate>0.00</deathRate><gubun>10-19</gubun><seq>89</seq><updateDt/></item><item><confCase>2844</confCase><confCaseRate>27.29</confCaseRate><createDt>2020-04-09 10:23:55.55</createDt><criticalRate>0</criticalRate><death>0</death><deathRate>0.00</deathRate><gubun>20-29</gubun><seq>88</seq><updateDt/></item><item><confCase>1109</confCase><confCaseRate>10.64</confCaseRate><createDt>2020-04-09 10:23:55.55</createDt><criticalRate>0.09</criticalRate><death>1</death><deathRate>0.49</deathRate><gubun>30-39</gubun><seq>87</seq><updateDt/></item><item><confCase>1394</confCase><confCaseRate>13.37</confCaseRate><createDt>2020-04-09 10:23:55.55</createDt><criticalRate>0.22</criticalRate><death>3</death><deathRate>1.47</deathRate><gubun>40-49</gubun><seq>86</seq><updateDt/></item><item><confCase>1917</confCase><confCaseRate>18.39</confCaseRate><createDt>2020-04-09 10:23:55.55</createDt><criticalRate>0.68</criticalRate><death>13</death><deathRate>6.37</deathRate><gubun>50-59</gubun><seq>85</seq><updateDt/></item><item><confCase>1314</confCase><confCaseRate>12.61</confCaseRate><createDt>2020-04-09 10:23:55.55</createDt><criticalRate>2.05</criticalRate><death>27</death><deathRate>13.24</deathRate><gubun>60-69</gubun><seq>84</seq><updateDt/></item><item><confCase>692</confCase><confCaseRate>6.64</confCaseRate><createDt>2020-04-09 10:23:55.55</createDt><criticalRate>8.67</criticalRate><death>60</death><deathRate>29.41</deathRate><gubun>70-79</gubun><seq>83</seq><updateDt/></item><item><confCase>473</confCase><confCaseRate>4.54</confCaseRate><createDt>2020-04-09 10:23:55.55</createDt><criticalRate>21.14</criticalRate><death>100</death><deathRate>49.02</deathRate><gubun>80 이상</gubun><seq>82</seq><updateDt/></item><item><confCase>6238</confCase><confCaseRate>59.85</confCaseRate><createDt>2020-04-09 10:23:55.55</createDt><criticalRate>1.55</criticalRate><death>97</death><deathRate>47.55</deathRate><gubun>여성</gubun><seq>81</seq><updateDt/></item><item><confCase>4185</confCase><confCaseRate>40.15</confCaseRate><createDt>2020-04-09 10:23:55.55</createDt><criticalRate>2.56</criticalRate><death>107</death><deathRate>52.45</deathRate><gubun>남성</gubun><seq>80</seq><updateDt/></item><item><confCase>126</confCase><confCaseRate>1.21</confCaseRate><createDt>2020-04-08 11:34:40.40</createDt><criticalRate>0</criticalRate><death>0</death><deathRate>0.00</deathRate><gubun>0-9</gubun><seq>79</seq><updateDt/></item><item><confCase>548</confCase><confCaseRate>5.28</confCaseRate><createDt>2020-04-08 11:34:40.40</createDt><criticalRate>0</criticalRate><death>0</death><deathRate>0.00</deathRate><gubun>10-19</gubun><seq>78</seq><updateDt/></item><item><confCase>2832</confCase><confCaseRate>27.27</confCaseRate><createDt>2020-04-08 11:34:40.40</createDt><criticalRate>0</criticalRate><death>0</death><deathRate>0.00</deathRate><gubun>20-29</gubun><seq>77</seq><updateDt/></item><item><confCase>1102</confCase><confCaseRate>10.61</confCaseRate><createDt>2020-04-08 11:34:40.40</createDt><criticalRate>0.09</criticalRate><death>1</death><deathRate>0.50</deathRate><gubun>30-39</gubun><seq>76</seq><updateDt/></item><item><confCase>1387</confCase><confCaseRate>13.36</confCaseRate><createDt>2020-04-08 11:34:40.40</createDt><criticalRate>0.22</criticalRate><death>3</death><deathRate>1.50</deathRate><gubun>40-49</gubun><seq>75</seq><updateDt/></item><item><confCase>1915</confCase><confCaseRate>18.44</confCaseRate><createDt>2020-04-08 11:34:40.40</createDt><criticalRate>0.68</criticalRate><death>13</death><deathRate>6.50</deathRate><gubun>50-59</gubun><seq>74</seq><updateDt/></item><item><confCase>1312</confCase><confCaseRate>12.63</confCaseRate><createDt>2020-04-08 11:34:40.40</createDt><criticalRate>2.06</criticalRate><death>27</death><deathRate>13.50</deathRate><gubun>60-69</gubun><seq>73</seq><updateDt/></item><item><confCase>692</confCase><confCaseRate>6.66</confCaseRate><createDt>2020-04-08 11:34:40.40</createDt><criticalRate>8.67</criticalRate><death>60</death><deathRate>30.00</deathRate><gubun>70-79</gubun><seq>72</seq><updateDt/></item><item><confCase>470</confCase><confCaseRate>4.53</confCaseRate><createDt>2020-04-08 11:34:40.40</createDt><criticalRate>20.43</criticalRate><death>96</death><deathRate>48.00</deathRate><gubun>80 이상</gubun><seq>71</seq><updateDt/></item><item><confCase>6221</confCase><confCaseRate>59.91</confCaseRate><createDt>2020-04-08 11:34:40.40</createDt><criticalRate>1.51</criticalRate><death>94</death><deathRate>47.00</deathRate><gubun>여성</gubun><seq>70</seq><updateDt/></item><item><confCase>4163</confCase><confCaseRate>40.09</confCaseRate><createDt>2020-04-08 11:34:40.40</createDt><criticalRate>2.55</criticalRate><death>106</death><deathRate>53.00</deathRate><gubun>남성</gubun><seq>69</seq><updateDt/></item><item><confCase>1</confCase><confCaseRate>1</confCaseRate><createDt>2020-04-07 20:10:50.50</createDt><criticalRate>1</criticalRate><death>1</death><deathRate>1</deathRate><gubun>0-11</gubun><seq>23</seq><updateDt/></item><item><confCase>126</confCase><confCaseRate>1.22</confCaseRate><createDt>2020-04-07 19:32:08.08</createDt><criticalRate>0</criticalRate><death>0</death><deathRate>0</deathRate><gubun>0-9</gubun><seq>22</seq><updateDt/></item><item><confCase>544</confCase><confCaseRate>5.27</confCaseRate><createDt>2020-04-07 19:32:08.08</createDt><criticalRate>0</criticalRate><death>0</death><deathRate>0</deathRate><gubun>10-19</gubun><seq>21</seq><updateDt/></item><item><confCase>2819</confCase><confCaseRate>27.29</confCaseRate><createDt>2020-04-07 19:32:08.08</createDt><criticalRate>0</criticalRate><death>0</death><deathRate>0</deathRate><gubun>20-29</gubun><seq>20</seq><updateDt/></item><item><confCase>1092</confCase><confCaseRate>10.57</confCaseRate><createDt>2020-04-07 19:32:08.08</createDt><criticalRate>0.09</criticalRate><death>1</death><deathRate>0.52</deathRate><gubun>30-39</gubun><seq>19</seq><updateDt/></item><item><confCase>1382</confCase><confCaseRate>13.38</confCaseRate><createDt>2020-04-07 19:32:08.08</createDt><criticalRate>0.14</criticalRate><death>2</death><deathRate>1.04</deathRate><gubun>40-49</gubun><seq>18</seq><updateDt/></item><item><confCase>1909</confCase><confCaseRate>18.48</confCaseRate><createDt>2020-04-07 19:32:08.08</createDt><criticalRate>0.68</criticalRate><death>13</death><deathRate>6.77</deathRate><gubun>50-59</gubun><seq>17</seq><updateDt/></item><item><confCase>1304</confCase><confCaseRate>12.62</confCaseRate><createDt>2020-04-07 19:32:08.08</createDt><criticalRate>1.99</criticalRate><death>26</death><deathRate>13.54</deathRate><gubun>60-69</gubun><seq>16</seq><updateDt/></item><item><confCase>689</confCase><confCaseRate>6.67</confCaseRate><createDt>2020-04-07 19:32:08.08</createDt><criticalRate>8.27</criticalRate><death>57</death><deathRate>29.69</deathRate><gubun>70-79</gubun><seq>15</seq><updateDt/></item><item><confCase>466</confCase><confCaseRate>4.51</confCaseRate><createDt>2020-04-07 19:32:08.08</createDt><criticalRate>19.96</criticalRate><death>93</death><deathRate>48.44</deathRate><gubun>80 이상</gubun><seq>14</seq><updateDt/></item><item><confCase>6193</confCase><confCaseRate>59.95</confCaseRate><createDt>2020-04-07 19:32:08.08</createDt><criticalRate>1.47</criticalRate><death>91</death><deathRate>47.40</deathRate><gubun>여성</gubun><seq>13</seq><updateDt/></item><item><confCase>4138</confCase><confCaseRate>40.05</confCaseRate><createDt>2020-04-07 19:32:08.08</createDt><criticalRate>2.44</criticalRate><death>101</death><deathRate>52.60</deathRate><gubun>남성</gubun><seq>12</seq><updateDt/></item><item><confCase>112</confCase><confCaseRate>1.14</confCaseRate><createDt>2020-04-02 19:02:48.48</createDt><criticalRate>0</criticalRate><death>0</death><deathRate>0</deathRate><gubun>0-9</gubun><seq>11</seq><updateDt/></item><item><confCase>515</confCase><confCaseRate>5.26</confCaseRate><createDt>2020-04-02 19:02:48.48</createDt><criticalRate>0</criticalRate><death>0</death><deathRate>0</deathRate><gubun>10-19</gubun><seq>10</seq><updateDt/></item><item><confCase>2656</confCase><confCaseRate>27.14</confCaseRate><createDt>2020-04-02 19:02:48.48</createDt><criticalRate>0</criticalRate><death>0</death><deathRate>0</deathRate><gubun>20-29</gubun><seq>9</seq><updateDt/></item><item><confCase>1012</confCase><confCaseRate>10.34</confCaseRate><createDt>2020-04-02 19:02:48.48</createDt><criticalRate>0.1</criticalRate><death>1</death><deathRate>0.62</deathRate><gubun>30-39</gubun><seq>8</seq><updateDt/></item><item><confCase>1312</confCase><confCaseRate>13.41</confCaseRate><createDt>2020-04-02 19:02:48.48</createDt><criticalRate>0.08</criticalRate><death>1</death><deathRate>0.62</deathRate><gubun>40-49</gubun><seq>7</seq><updateDt/></item><item><confCase>1851</confCase><confCaseRate>18.91</confCaseRate><createDt>2020-04-02 19:02:48.48</createDt><criticalRate>0.54</criticalRate><death>10</death><deathRate>6.17</deathRate><gubun>50-59</gubun><seq>6</seq><updateDt/></item><item><confCase>1235</confCase><confCaseRate>12.62</confCaseRate><createDt>2020-04-02 19:02:48.48</createDt><criticalRate>1.78</criticalRate><death>22</death><deathRate>13.58</deathRate><gubun>60-69</gubun><seq>5</seq><updateDt/></item><item><confCase>651</confCase><confCaseRate>6.65</confCaseRate><createDt>2020-04-02 19:02:48.48</createDt><criticalRate>7.07</criticalRate><death>46</death><deathRate>28.4</deathRate><gubun>70-79</gubun><seq>4</seq><updateDt/></item><item><confCase>442</confCase><confCaseRate>4.52</confCaseRate><createDt>2020-04-02 19:02:48.48</createDt><criticalRate>18.55</criticalRate><death>82</death><deathRate>50.62</deathRate><gubun>80 이상</gubun><seq>3</seq><updateDt/></item><item><confCase>5881</confCase><confCaseRate>60.1</confCaseRate><createDt>2020-04-02 19:02:48.48</createDt><criticalRate>1.36</criticalRate><death>80</death><deathRate>49.38</deathRate><gubun>여성</gubun><seq>2</seq><updateDt/></item><item><confCase>3905</confCase><confCaseRate>39.9</confCaseRate><createDt>2020-04-02 19:02:48.48</createDt><criticalRate>2.1</criticalRate><death>82</death><deathRate>50.62</deathRate><gubun>남성</gubun><seq>1</seq><updateDt/></item></items><numOfRows>10</numOfRows><pageNo>1</pageNo><totalCount>2817</totalCount></body></response>"
      ]
     },
     "metadata": {},
     "execution_count": 8
    }
   ],
   "source": [
    "soup"
   ]
  },
  {
   "cell_type": "code",
   "execution_count": 26,
   "metadata": {},
   "outputs": [
    {
     "output_type": "execute_result",
     "data": {
      "text/plain": [
       "                         등록시간   확진자    확진률 사망자    사망률    치명률     구분    ID  \\\n",
       "0     2020-12-20 14:14:21.025  1638    3.3   0   0.00      0    0-9  5543   \n",
       "1     2020-12-20 14:14:21.024  3105   6.25   0   0.00      0  10-19  5542   \n",
       "2     2020-12-20 14:14:21.024  8455  17.02   0   0.00      0  20-29  5541   \n",
       "3     2020-12-20 14:14:21.024  6297  12.68   2   0.30   0.03  30-39  5540   \n",
       "4     2020-12-20 14:14:21.024  6975  14.04   6   0.89   0.09  40-49  5539   \n",
       "...                       ...   ...    ...  ..    ...    ...    ...   ...   \n",
       "2812   2020-04-02 19:02:48.48  1235  12.62  22  13.58   1.78  60-69     5   \n",
       "2813   2020-04-02 19:02:48.48   651   6.65  46   28.4   7.07  70-79     4   \n",
       "2814   2020-04-02 19:02:48.48   442   4.52  82  50.62  18.55  80 이상     3   \n",
       "2815   2020-04-02 19:02:48.48  5881   60.1  80  49.38   1.36     여성     2   \n",
       "2816   2020-04-02 19:02:48.48  3905   39.9  82  50.62    2.1     남성     1   \n",
       "\n",
       "      수정시간  \n",
       "0     null  \n",
       "1     null  \n",
       "2     null  \n",
       "3     null  \n",
       "4     null  \n",
       "...    ...  \n",
       "2812  None  \n",
       "2813  None  \n",
       "2814  None  \n",
       "2815  None  \n",
       "2816  None  \n",
       "\n",
       "[2817 rows x 9 columns]"
      ],
      "text/html": "<div>\n<style scoped>\n    .dataframe tbody tr th:only-of-type {\n        vertical-align: middle;\n    }\n\n    .dataframe tbody tr th {\n        vertical-align: top;\n    }\n\n    .dataframe thead th {\n        text-align: right;\n    }\n</style>\n<table border=\"1\" class=\"dataframe\">\n  <thead>\n    <tr style=\"text-align: right;\">\n      <th></th>\n      <th>등록시간</th>\n      <th>확진자</th>\n      <th>확진률</th>\n      <th>사망자</th>\n      <th>사망률</th>\n      <th>치명률</th>\n      <th>구분</th>\n      <th>ID</th>\n      <th>수정시간</th>\n    </tr>\n  </thead>\n  <tbody>\n    <tr>\n      <th>0</th>\n      <td>2020-12-20 14:14:21.025</td>\n      <td>1638</td>\n      <td>3.3</td>\n      <td>0</td>\n      <td>0.00</td>\n      <td>0</td>\n      <td>0-9</td>\n      <td>5543</td>\n      <td>null</td>\n    </tr>\n    <tr>\n      <th>1</th>\n      <td>2020-12-20 14:14:21.024</td>\n      <td>3105</td>\n      <td>6.25</td>\n      <td>0</td>\n      <td>0.00</td>\n      <td>0</td>\n      <td>10-19</td>\n      <td>5542</td>\n      <td>null</td>\n    </tr>\n    <tr>\n      <th>2</th>\n      <td>2020-12-20 14:14:21.024</td>\n      <td>8455</td>\n      <td>17.02</td>\n      <td>0</td>\n      <td>0.00</td>\n      <td>0</td>\n      <td>20-29</td>\n      <td>5541</td>\n      <td>null</td>\n    </tr>\n    <tr>\n      <th>3</th>\n      <td>2020-12-20 14:14:21.024</td>\n      <td>6297</td>\n      <td>12.68</td>\n      <td>2</td>\n      <td>0.30</td>\n      <td>0.03</td>\n      <td>30-39</td>\n      <td>5540</td>\n      <td>null</td>\n    </tr>\n    <tr>\n      <th>4</th>\n      <td>2020-12-20 14:14:21.024</td>\n      <td>6975</td>\n      <td>14.04</td>\n      <td>6</td>\n      <td>0.89</td>\n      <td>0.09</td>\n      <td>40-49</td>\n      <td>5539</td>\n      <td>null</td>\n    </tr>\n    <tr>\n      <th>...</th>\n      <td>...</td>\n      <td>...</td>\n      <td>...</td>\n      <td>...</td>\n      <td>...</td>\n      <td>...</td>\n      <td>...</td>\n      <td>...</td>\n      <td>...</td>\n    </tr>\n    <tr>\n      <th>2812</th>\n      <td>2020-04-02 19:02:48.48</td>\n      <td>1235</td>\n      <td>12.62</td>\n      <td>22</td>\n      <td>13.58</td>\n      <td>1.78</td>\n      <td>60-69</td>\n      <td>5</td>\n      <td>None</td>\n    </tr>\n    <tr>\n      <th>2813</th>\n      <td>2020-04-02 19:02:48.48</td>\n      <td>651</td>\n      <td>6.65</td>\n      <td>46</td>\n      <td>28.4</td>\n      <td>7.07</td>\n      <td>70-79</td>\n      <td>4</td>\n      <td>None</td>\n    </tr>\n    <tr>\n      <th>2814</th>\n      <td>2020-04-02 19:02:48.48</td>\n      <td>442</td>\n      <td>4.52</td>\n      <td>82</td>\n      <td>50.62</td>\n      <td>18.55</td>\n      <td>80 이상</td>\n      <td>3</td>\n      <td>None</td>\n    </tr>\n    <tr>\n      <th>2815</th>\n      <td>2020-04-02 19:02:48.48</td>\n      <td>5881</td>\n      <td>60.1</td>\n      <td>80</td>\n      <td>49.38</td>\n      <td>1.36</td>\n      <td>여성</td>\n      <td>2</td>\n      <td>None</td>\n    </tr>\n    <tr>\n      <th>2816</th>\n      <td>2020-04-02 19:02:48.48</td>\n      <td>3905</td>\n      <td>39.9</td>\n      <td>82</td>\n      <td>50.62</td>\n      <td>2.1</td>\n      <td>남성</td>\n      <td>1</td>\n      <td>None</td>\n    </tr>\n  </tbody>\n</table>\n<p>2817 rows × 9 columns</p>\n</div>"
     },
     "metadata": {},
     "execution_count": 26
    }
   ],
   "source": [
    "createDt_list,confCase_list,confCaseRate_list,death_list,deathRate_list = [],[],[],[],[]\n",
    "gubun_list,criticalRate_list,seq_list,updateDt_list = [],[],[],[]\n",
    "items = soup.find_all('item')\n",
    "for item in items:\n",
    "    createDt_list.append(item.find('createDt').string if item.find('createDt') else '')\n",
    "    confCase_list.append(item.find('confCase').string if item.find('confCase') else '')\n",
    "    confCaseRate_list.append(item.find('confCaseRate').string if item.find('confCaseRate') else '')\n",
    "    death_list.append(item.find('death').string if item.find('death') else '')\n",
    "    deathRate_list.append(item.find('deathRate').string if item.find('deathRate') else '')\n",
    "    criticalRate_list.append(item.find('criticalRate').string if item.find('criticalRate') else '')\n",
    "    gubun_list.append(item.find('gubun').string if item.find('gubun') else '')\n",
    "    seq_list.append(item.find('seq').string if item.find('seq') else '')\n",
    "    updateDt_list.append(item.find('updateDt').string if item.find('updateDt') else '')\n",
    "\n",
    "df = pd.DataFrame({\n",
    "    '등록시간':createDt_list, '확진자':confCase_list, '확진률':confCaseRate_list,\n",
    "    '사망자':death_list, '사망률':deathRate_list, '치명률':criticalRate_list, \n",
    "    '구분':gubun_list, 'ID':seq_list, '수정시간':updateDt_list\n",
    "})\n",
    "df"
   ]
  },
  {
   "cell_type": "code",
   "execution_count": 27,
   "metadata": {},
   "outputs": [],
   "source": [
    "conn = sqlite3.connect('../db/covid.db')\n",
    "cur = conn.cursor()"
   ]
  },
  {
   "cell_type": "code",
   "execution_count": 28,
   "metadata": {},
   "outputs": [],
   "source": [
    "sql_table = '''create table if not exists agender (\n",
    "  agid integer not null primary key autoincrement,\n",
    "  stdDay text not null,\n",
    "  confCase int not null,\n",
    "  confCaseRate float not null,\n",
    "  death int not null,\n",
    "  deathRate float not null,\n",
    "  criticalRate float not null,\n",
    "  gubun text not null,\n",
    "  seq int,\n",
    "  updateDt text);\n",
    "'''\n",
    "cur.execute(sql_table)\n",
    "conn.commit()"
   ]
  },
  {
   "cell_type": "code",
   "execution_count": 29,
   "metadata": {},
   "outputs": [
    {
     "output_type": "display_data",
     "data": {
      "text/plain": "HBox(children=(FloatProgress(value=0.0, max=10.0), HTML(value='')))",
      "application/vnd.jupyter.widget-view+json": {
       "version_major": 2,
       "version_minor": 0,
       "model_id": "0e5ae8be83b3472eb79c09acee0094fe"
      }
     },
     "metadata": {}
    },
    {
     "output_type": "stream",
     "name": "stdout",
     "text": [
      "3월: 1-0, 2-0, 3-0, 4-0, 5-0, 6-0, 7-0, 8-0, 9-0, 10-0, 11-0, 12-0, 13-0, 14-0, 15-0, 16-0, 17-0, 18-0, 19-0, 20-0, 21-0, 22-0, 23-0, 24-0, 25-0, 26-0, 27-0, 28-0, 29-0, 30-0, 31-0, \n",
      "4월: 1-0, 2-11, 3-0, 4-0, 5-0, 6-0, 7-12, 8-11, 9-11, 10-11, 11-11, 12-11, 13-11, 14-11, 15-11, 16-11, 17-11, 18-11, 19-11, 20-11, 21-11, 22-11, 23-11, 24-11, 25-11, 26-11, 27-11, 28-11, 29-11, 30-11, \n",
      "5월: 1-11, 2-11, 3-11, 4-11, 5-11, 6-11, 7-11, 8-11, 9-11, 10-11, 11-11, 12-11, 13-11, 14-11, 15-11, 16-11, 17-11, 18-11, 19-11, 20-11, 21-11, 22-0, 23-11, 24-11, 25-11, 26-11, 27-11, 28-11, 29-11, 30-11, 31-11, \n",
      "6월: 1-0, 2-11, 3-11, 4-11, 5-11, 6-11, 7-11, 8-11, 9-11, 10-11, 11-11, 12-11, 13-11, 14-11, 15-0, 16-11, 17-11, 18-11, 19-11, 20-11, 21-11, 22-11, 23-11, 24-11, 25-11, 26-11, 27-11, 28-11, 29-11, 30-11, \n",
      "7월: 1-11, 2-11, 3-11, 4-11, 5-11, 6-11, 7-11, 8-11, 9-11, 10-11, 11-11, 12-11, 13-11, 14-11, 15-11, 16-11, 17-11, 18-11, 19-11, 20-11, 21-11, 22-11, 23-11, 24-11, 25-11, 26-11, 27-11, 28-11, 29-11, 30-11, 31-11, \n",
      "8월: 1-11, 2-11, 3-11, 4-11, 5-11, 6-11, 7-11, 8-11, 9-11, 10-11, 11-11, 12-11, 13-11, 14-11, 15-11, 16-11, 17-11, 18-11, 19-11, 20-11, 21-11, 22-11, 23-11, 24-11, 25-11, 26-11, 27-11, 28-11, 29-11, 30-11, 31-11, \n",
      "9월: 1-11, 2-11, 3-11, 4-11, 5-11, 6-11, 7-11, 8-11, 9-11, 10-11, 11-11, 12-11, 13-11, 14-11, 15-11, 16-11, 17-11, 18-11, 19-11, 20-11, 21-11, 22-11, 23-11, 24-11, 25-11, 26-11, 27-11, 28-11, 29-11, 30-11, \n",
      "10월: 1-11, 2-11, 3-11, 4-11, 5-11, 6-11, 7-11, 8-11, 9-0, 10-11, 11-11, 12-11, 13-11, 14-11, 15-11, 16-11, 17-11, 18-11, 19-11, 20-11, 21-11, 22-11, 23-11, 24-11, 25-11, 26-11, 27-11, 28-11, 29-11, 30-11, 31-11, \n",
      "11월: 1-11, 2-11, 3-11, 4-11, 5-11, 6-22, 7-11, 8-11, 9-11, 10-11, 11-11, 12-11, 13-11, 14-11, 15-11, 16-11, 17-11, 18-11, 19-11, 20-11, 21-11, 22-11, 23-11, 24-11, 25-11, 26-11, 27-11, 28-11, 29-11, 30-11, \n",
      "12월: 1-11, 2-11, 3-11, 4-11, 5-11, 6-11, 7-11, 8-11, 9-11, 10-11, 11-11, 12-11, 13-11, 14-11, 15-11, 16-11, 17-11, 18-11, 19-11, 20-11, 21-11, \n",
      "\n"
     ]
    }
   ],
   "source": [
    "month_dict = {3:31, 4:30, 5:31, 6:30, 7:31, 8:31, 9:30, 10:31, 11:30, 12:21}\n",
    "for k, v in tqdm_notebook(month_dict.items()):\n",
    "    month = str(k) if k >= 10 else f'0{k}'\n",
    "    print(f'{k}월: ', end='')\n",
    "    for i in range(1, v+1):\n",
    "        day = str(i) if i >= 10 else f'0{i}'\n",
    "        print(f'{i}-', end='')\n",
    "        date = f'2020{month}{day}'\n",
    "        page = 1\n",
    "        url = f'{corona_url}?ServiceKey={govapi_key}&pageNo={page}&numOfRows=10&startCreateDt={date}&endCreateDt={date}'\n",
    "        soup = BeautifulSoup(requests.get(url).text, 'xml')\n",
    "\n",
    "        items = soup.find_all('item')\n",
    "        item_count = len(items)\n",
    "        print(f'{item_count}, ', end='')\n",
    "    print()"
   ]
  },
  {
   "cell_type": "code",
   "execution_count": 30,
   "metadata": {},
   "outputs": [],
   "source": [
    "sql_insert = '''insert into agender(stdDay, confCase, confCaseRate, death, deathRate,\n",
    "criticalRate, gubun, seq, updateDt) values(?,?,?,?,?,?,?,?,?);\n",
    "'''"
   ]
  },
  {
   "cell_type": "code",
   "execution_count": 32,
   "metadata": {},
   "outputs": [
    {
     "output_type": "display_data",
     "data": {
      "text/plain": "HBox(children=(FloatProgress(value=0.0, max=9.0), HTML(value='')))",
      "application/vnd.jupyter.widget-view+json": {
       "version_major": 2,
       "version_minor": 0,
       "model_id": "ff0d769a7ed04e038c263a447080fb51"
      }
     },
     "metadata": {}
    },
    {
     "output_type": "stream",
     "name": "stdout",
     "text": [
      "\n"
     ]
    }
   ],
   "source": [
    "month_dict = {4:30, 5:31, 6:30, 7:31, 8:31, 9:30, 10:31, 11:30, 12:21}\n",
    "for k, v in tqdm_notebook(month_dict.items()):\n",
    "    month = str(k) if k >= 10 else f'0{k}'\n",
    "    for i in range(1, v+1):\n",
    "        day = str(i) if i >= 10 else f'0{i}'\n",
    "        date = f'2020{month}{day}'\n",
    "        page = 1\n",
    "        url = f'{corona_url}?ServiceKey={govapi_key}&pageNo={page}&numOfRows=10&startCreateDt={date}&endCreateDt={date}'\n",
    "        soup = BeautifulSoup(requests.get(url).text, 'xml')\n",
    "\n",
    "        items = soup.find_all('item')\n",
    "        item_count = len(items)\n",
    "        if item_count == 0:\n",
    "            continue\n",
    "\n",
    "        for item in items:\n",
    "            createDt = item.find('createDt').string.split(' ')[0]\n",
    "            confCase = int(item.find('confCase').string)\n",
    "            confCaseRate = float(item.find('confCaseRate').string)\n",
    "            death = int(item.find('death').string)\n",
    "            deathRate = float(item.find('deathRate').string)\n",
    "            criticalRate = float(item.find('criticalRate').string)\n",
    "            gubun = item.find('gubun').string\n",
    "            seq = int(item.find('seq').string)\n",
    "            updateDt = item.find('updateDt').string\n",
    "\n",
    "            params = [createDt, confCase, confCaseRate, death, deathRate, criticalRate,\n",
    "                      gubun,seq,updateDt]\n",
    "            cur.execute(sql_insert, params)\n",
    "            conn.commit()"
   ]
  },
  {
   "cell_type": "code",
   "execution_count": 33,
   "metadata": {},
   "outputs": [],
   "source": [
    "cur.close()\n",
    "conn.close()"
   ]
  },
  {
   "cell_type": "code",
   "execution_count": null,
   "metadata": {},
   "outputs": [],
   "source": []
  },
  {
   "cell_type": "code",
   "execution_count": null,
   "metadata": {},
   "outputs": [],
   "source": []
  },
  {
   "cell_type": "code",
   "execution_count": null,
   "metadata": {},
   "outputs": [],
   "source": []
  }
 ]
}
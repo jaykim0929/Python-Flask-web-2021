{
 "metadata": {
  "language_info": {
   "codemirror_mode": {
    "name": "ipython",
    "version": 3
   },
   "file_extension": ".py",
   "mimetype": "text/x-python",
   "name": "python",
   "nbconvert_exporter": "python",
   "pygments_lexer": "ipython3",
   "version": "3.8.3-final"
  },
  "orig_nbformat": 2,
  "kernelspec": {
   "name": "python3",
   "display_name": "Python 3",
   "language": "python"
  }
 },
 "nbformat": 4,
 "nbformat_minor": 2,
 "cells": [
  {
   "source": [
    "# MNIST Original Hand-Written Images"
   ],
   "cell_type": "markdown",
   "metadata": {}
  },
  {
   "cell_type": "code",
   "execution_count": 2,
   "metadata": {},
   "outputs": [],
   "source": [
    "import joblib\n",
    "import numpy as np\n",
    "import pandas as pd\n",
    "import matplotlib.pyplot as plt\n",
    "%matplotlib inline"
   ]
  },
  {
   "cell_type": "code",
   "execution_count": 3,
   "metadata": {},
   "outputs": [],
   "source": [
    "from sklearn.preprocessing import MinMaxScaler\n",
    "from sklearn.linear_model import LogisticRegression\n",
    "from sklearn.svm import SVC\n",
    "from sklearn.ensemble import RandomForestClassifier\n",
    "from sklearn.model_selection import GridSearchCV\n",
    "from sklearn.metrics import accuracy_score\n",
    "from sklearn.model_selection import train_test_split"
   ]
  },
  {
   "cell_type": "code",
   "execution_count": 4,
   "metadata": {},
   "outputs": [
    {
     "output_type": "execute_result",
     "data": {
      "text/plain": [
       "(60000, 785)"
      ]
     },
     "metadata": {},
     "execution_count": 4
    }
   ],
   "source": [
    "train=pd.read_csv('../static/data/mnist_train.csv', header=0, index_col=None)\n",
    "train.shape"
   ]
  },
  {
   "cell_type": "code",
   "execution_count": 5,
   "metadata": {},
   "outputs": [
    {
     "output_type": "execute_result",
     "data": {
      "text/plain": [
       "   label  1x1  1x2  1x3  1x4  1x5  1x6  1x7  1x8  1x9  ...  28x19  28x20  \\\n",
       "0      5    0    0    0    0    0    0    0    0    0  ...      0      0   \n",
       "1      0    0    0    0    0    0    0    0    0    0  ...      0      0   \n",
       "\n",
       "   28x21  28x22  28x23  28x24  28x25  28x26  28x27  28x28  \n",
       "0      0      0      0      0      0      0      0      0  \n",
       "1      0      0      0      0      0      0      0      0  \n",
       "\n",
       "[2 rows x 785 columns]"
      ],
      "text/html": "<div>\n<style scoped>\n    .dataframe tbody tr th:only-of-type {\n        vertical-align: middle;\n    }\n\n    .dataframe tbody tr th {\n        vertical-align: top;\n    }\n\n    .dataframe thead th {\n        text-align: right;\n    }\n</style>\n<table border=\"1\" class=\"dataframe\">\n  <thead>\n    <tr style=\"text-align: right;\">\n      <th></th>\n      <th>label</th>\n      <th>1x1</th>\n      <th>1x2</th>\n      <th>1x3</th>\n      <th>1x4</th>\n      <th>1x5</th>\n      <th>1x6</th>\n      <th>1x7</th>\n      <th>1x8</th>\n      <th>1x9</th>\n      <th>...</th>\n      <th>28x19</th>\n      <th>28x20</th>\n      <th>28x21</th>\n      <th>28x22</th>\n      <th>28x23</th>\n      <th>28x24</th>\n      <th>28x25</th>\n      <th>28x26</th>\n      <th>28x27</th>\n      <th>28x28</th>\n    </tr>\n  </thead>\n  <tbody>\n    <tr>\n      <th>0</th>\n      <td>5</td>\n      <td>0</td>\n      <td>0</td>\n      <td>0</td>\n      <td>0</td>\n      <td>0</td>\n      <td>0</td>\n      <td>0</td>\n      <td>0</td>\n      <td>0</td>\n      <td>...</td>\n      <td>0</td>\n      <td>0</td>\n      <td>0</td>\n      <td>0</td>\n      <td>0</td>\n      <td>0</td>\n      <td>0</td>\n      <td>0</td>\n      <td>0</td>\n      <td>0</td>\n    </tr>\n    <tr>\n      <th>1</th>\n      <td>0</td>\n      <td>0</td>\n      <td>0</td>\n      <td>0</td>\n      <td>0</td>\n      <td>0</td>\n      <td>0</td>\n      <td>0</td>\n      <td>0</td>\n      <td>0</td>\n      <td>...</td>\n      <td>0</td>\n      <td>0</td>\n      <td>0</td>\n      <td>0</td>\n      <td>0</td>\n      <td>0</td>\n      <td>0</td>\n      <td>0</td>\n      <td>0</td>\n      <td>0</td>\n    </tr>\n  </tbody>\n</table>\n<p>2 rows × 785 columns</p>\n</div>"
     },
     "metadata": {},
     "execution_count": 5
    }
   ],
   "source": [
    "train.head(2)"
   ]
  },
  {
   "cell_type": "code",
   "execution_count": 6,
   "metadata": {},
   "outputs": [
    {
     "output_type": "execute_result",
     "data": {
      "text/plain": [
       "              label      1x1      1x2      1x3      1x4      1x5      1x6  \\\n",
       "count  60000.000000  60000.0  60000.0  60000.0  60000.0  60000.0  60000.0   \n",
       "mean       4.453933      0.0      0.0      0.0      0.0      0.0      0.0   \n",
       "std        2.889270      0.0      0.0      0.0      0.0      0.0      0.0   \n",
       "min        0.000000      0.0      0.0      0.0      0.0      0.0      0.0   \n",
       "25%        2.000000      0.0      0.0      0.0      0.0      0.0      0.0   \n",
       "50%        4.000000      0.0      0.0      0.0      0.0      0.0      0.0   \n",
       "75%        7.000000      0.0      0.0      0.0      0.0      0.0      0.0   \n",
       "max        9.000000      0.0      0.0      0.0      0.0      0.0      0.0   \n",
       "\n",
       "           1x7      1x8      1x9  ...         28x19         28x20  \\\n",
       "count  60000.0  60000.0  60000.0  ...  60000.000000  60000.000000   \n",
       "mean       0.0      0.0      0.0  ...      0.200433      0.088867   \n",
       "std        0.0      0.0      0.0  ...      6.042472      3.956189   \n",
       "min        0.0      0.0      0.0  ...      0.000000      0.000000   \n",
       "25%        0.0      0.0      0.0  ...      0.000000      0.000000   \n",
       "50%        0.0      0.0      0.0  ...      0.000000      0.000000   \n",
       "75%        0.0      0.0      0.0  ...      0.000000      0.000000   \n",
       "max        0.0      0.0      0.0  ...    254.000000    254.000000   \n",
       "\n",
       "              28x21         28x22         28x23       28x24    28x25    28x26  \\\n",
       "count  60000.000000  60000.000000  60000.000000  60000.0000  60000.0  60000.0   \n",
       "mean       0.045633      0.019283      0.015117      0.0020      0.0      0.0   \n",
       "std        2.839845      1.686770      1.678283      0.3466      0.0      0.0   \n",
       "min        0.000000      0.000000      0.000000      0.0000      0.0      0.0   \n",
       "25%        0.000000      0.000000      0.000000      0.0000      0.0      0.0   \n",
       "50%        0.000000      0.000000      0.000000      0.0000      0.0      0.0   \n",
       "75%        0.000000      0.000000      0.000000      0.0000      0.0      0.0   \n",
       "max      253.000000    253.000000    254.000000     62.0000      0.0      0.0   \n",
       "\n",
       "         28x27    28x28  \n",
       "count  60000.0  60000.0  \n",
       "mean       0.0      0.0  \n",
       "std        0.0      0.0  \n",
       "min        0.0      0.0  \n",
       "25%        0.0      0.0  \n",
       "50%        0.0      0.0  \n",
       "75%        0.0      0.0  \n",
       "max        0.0      0.0  \n",
       "\n",
       "[8 rows x 785 columns]"
      ],
      "text/html": "<div>\n<style scoped>\n    .dataframe tbody tr th:only-of-type {\n        vertical-align: middle;\n    }\n\n    .dataframe tbody tr th {\n        vertical-align: top;\n    }\n\n    .dataframe thead th {\n        text-align: right;\n    }\n</style>\n<table border=\"1\" class=\"dataframe\">\n  <thead>\n    <tr style=\"text-align: right;\">\n      <th></th>\n      <th>label</th>\n      <th>1x1</th>\n      <th>1x2</th>\n      <th>1x3</th>\n      <th>1x4</th>\n      <th>1x5</th>\n      <th>1x6</th>\n      <th>1x7</th>\n      <th>1x8</th>\n      <th>1x9</th>\n      <th>...</th>\n      <th>28x19</th>\n      <th>28x20</th>\n      <th>28x21</th>\n      <th>28x22</th>\n      <th>28x23</th>\n      <th>28x24</th>\n      <th>28x25</th>\n      <th>28x26</th>\n      <th>28x27</th>\n      <th>28x28</th>\n    </tr>\n  </thead>\n  <tbody>\n    <tr>\n      <th>count</th>\n      <td>60000.000000</td>\n      <td>60000.0</td>\n      <td>60000.0</td>\n      <td>60000.0</td>\n      <td>60000.0</td>\n      <td>60000.0</td>\n      <td>60000.0</td>\n      <td>60000.0</td>\n      <td>60000.0</td>\n      <td>60000.0</td>\n      <td>...</td>\n      <td>60000.000000</td>\n      <td>60000.000000</td>\n      <td>60000.000000</td>\n      <td>60000.000000</td>\n      <td>60000.000000</td>\n      <td>60000.0000</td>\n      <td>60000.0</td>\n      <td>60000.0</td>\n      <td>60000.0</td>\n      <td>60000.0</td>\n    </tr>\n    <tr>\n      <th>mean</th>\n      <td>4.453933</td>\n      <td>0.0</td>\n      <td>0.0</td>\n      <td>0.0</td>\n      <td>0.0</td>\n      <td>0.0</td>\n      <td>0.0</td>\n      <td>0.0</td>\n      <td>0.0</td>\n      <td>0.0</td>\n      <td>...</td>\n      <td>0.200433</td>\n      <td>0.088867</td>\n      <td>0.045633</td>\n      <td>0.019283</td>\n      <td>0.015117</td>\n      <td>0.0020</td>\n      <td>0.0</td>\n      <td>0.0</td>\n      <td>0.0</td>\n      <td>0.0</td>\n    </tr>\n    <tr>\n      <th>std</th>\n      <td>2.889270</td>\n      <td>0.0</td>\n      <td>0.0</td>\n      <td>0.0</td>\n      <td>0.0</td>\n      <td>0.0</td>\n      <td>0.0</td>\n      <td>0.0</td>\n      <td>0.0</td>\n      <td>0.0</td>\n      <td>...</td>\n      <td>6.042472</td>\n      <td>3.956189</td>\n      <td>2.839845</td>\n      <td>1.686770</td>\n      <td>1.678283</td>\n      <td>0.3466</td>\n      <td>0.0</td>\n      <td>0.0</td>\n      <td>0.0</td>\n      <td>0.0</td>\n    </tr>\n    <tr>\n      <th>min</th>\n      <td>0.000000</td>\n      <td>0.0</td>\n      <td>0.0</td>\n      <td>0.0</td>\n      <td>0.0</td>\n      <td>0.0</td>\n      <td>0.0</td>\n      <td>0.0</td>\n      <td>0.0</td>\n      <td>0.0</td>\n      <td>...</td>\n      <td>0.000000</td>\n      <td>0.000000</td>\n      <td>0.000000</td>\n      <td>0.000000</td>\n      <td>0.000000</td>\n      <td>0.0000</td>\n      <td>0.0</td>\n      <td>0.0</td>\n      <td>0.0</td>\n      <td>0.0</td>\n    </tr>\n    <tr>\n      <th>25%</th>\n      <td>2.000000</td>\n      <td>0.0</td>\n      <td>0.0</td>\n      <td>0.0</td>\n      <td>0.0</td>\n      <td>0.0</td>\n      <td>0.0</td>\n      <td>0.0</td>\n      <td>0.0</td>\n      <td>0.0</td>\n      <td>...</td>\n      <td>0.000000</td>\n      <td>0.000000</td>\n      <td>0.000000</td>\n      <td>0.000000</td>\n      <td>0.000000</td>\n      <td>0.0000</td>\n      <td>0.0</td>\n      <td>0.0</td>\n      <td>0.0</td>\n      <td>0.0</td>\n    </tr>\n    <tr>\n      <th>50%</th>\n      <td>4.000000</td>\n      <td>0.0</td>\n      <td>0.0</td>\n      <td>0.0</td>\n      <td>0.0</td>\n      <td>0.0</td>\n      <td>0.0</td>\n      <td>0.0</td>\n      <td>0.0</td>\n      <td>0.0</td>\n      <td>...</td>\n      <td>0.000000</td>\n      <td>0.000000</td>\n      <td>0.000000</td>\n      <td>0.000000</td>\n      <td>0.000000</td>\n      <td>0.0000</td>\n      <td>0.0</td>\n      <td>0.0</td>\n      <td>0.0</td>\n      <td>0.0</td>\n    </tr>\n    <tr>\n      <th>75%</th>\n      <td>7.000000</td>\n      <td>0.0</td>\n      <td>0.0</td>\n      <td>0.0</td>\n      <td>0.0</td>\n      <td>0.0</td>\n      <td>0.0</td>\n      <td>0.0</td>\n      <td>0.0</td>\n      <td>0.0</td>\n      <td>...</td>\n      <td>0.000000</td>\n      <td>0.000000</td>\n      <td>0.000000</td>\n      <td>0.000000</td>\n      <td>0.000000</td>\n      <td>0.0000</td>\n      <td>0.0</td>\n      <td>0.0</td>\n      <td>0.0</td>\n      <td>0.0</td>\n    </tr>\n    <tr>\n      <th>max</th>\n      <td>9.000000</td>\n      <td>0.0</td>\n      <td>0.0</td>\n      <td>0.0</td>\n      <td>0.0</td>\n      <td>0.0</td>\n      <td>0.0</td>\n      <td>0.0</td>\n      <td>0.0</td>\n      <td>0.0</td>\n      <td>...</td>\n      <td>254.000000</td>\n      <td>254.000000</td>\n      <td>253.000000</td>\n      <td>253.000000</td>\n      <td>254.000000</td>\n      <td>62.0000</td>\n      <td>0.0</td>\n      <td>0.0</td>\n      <td>0.0</td>\n      <td>0.0</td>\n    </tr>\n  </tbody>\n</table>\n<p>8 rows × 785 columns</p>\n</div>"
     },
     "metadata": {},
     "execution_count": 6
    }
   ],
   "source": [
    "train.describe()"
   ]
  },
  {
   "cell_type": "code",
   "execution_count": 7,
   "metadata": {},
   "outputs": [
    {
     "output_type": "execute_result",
     "data": {
      "text/plain": [
       "((45000, 784), (15000, 784), (45000,), (15000,))"
      ]
     },
     "metadata": {},
     "execution_count": 7
    }
   ],
   "source": [
    "X_train, X_test, y_train, y_test = train_test_split(\n",
    "    train.iloc[:, 1:], train.label, stratify=train.label, test_size=0.25, random_state=2021\n",
    ")\n",
    "X_train.shape, X_test.shape, y_train.shape, y_test.shape"
   ]
  },
  {
   "cell_type": "code",
   "execution_count": 17,
   "metadata": {},
   "outputs": [
    {
     "output_type": "error",
     "ename": "NameError",
     "evalue": "name 'test' is not defined",
     "traceback": [
      "\u001b[1;31m---------------------------------------------------------------------------\u001b[0m",
      "\u001b[1;31mNameError\u001b[0m                                 Traceback (most recent call last)",
      "\u001b[1;32m<ipython-input-17-e16a9d0f5aa2>\u001b[0m in \u001b[0;36m<module>\u001b[1;34m\u001b[0m\n\u001b[1;32m----> 1\u001b[1;33m \u001b[0mdf_test\u001b[0m \u001b[1;33m=\u001b[0m \u001b[0mpd\u001b[0m\u001b[1;33m.\u001b[0m\u001b[0mDataFrame\u001b[0m\u001b[1;33m(\u001b[0m\u001b[0mX_test\u001b[0m\u001b[1;33m,\u001b[0m \u001b[0mcolumns\u001b[0m\u001b[1;33m=\u001b[0m\u001b[0mtest\u001b[0m\u001b[1;33m.\u001b[0m\u001b[0mcolumns\u001b[0m\u001b[1;33m)\u001b[0m\u001b[1;33m\u001b[0m\u001b[1;33m\u001b[0m\u001b[0m\n\u001b[0m\u001b[0;32m      2\u001b[0m \u001b[0mdf_test\u001b[0m\u001b[1;33m[\u001b[0m\u001b[1;34m'target'\u001b[0m\u001b[1;33m]\u001b[0m \u001b[1;33m=\u001b[0m \u001b[0my_test\u001b[0m\u001b[1;33m\u001b[0m\u001b[1;33m\u001b[0m\u001b[0m\n\u001b[0;32m      3\u001b[0m \u001b[0mdf_test\u001b[0m\u001b[1;33m.\u001b[0m\u001b[0mto_csv\u001b[0m\u001b[1;33m(\u001b[0m\u001b[1;34m'../static/data/mnist_test.csv'\u001b[0m\u001b[1;33m,\u001b[0m \u001b[0mindex\u001b[0m\u001b[1;33m=\u001b[0m\u001b[1;32mFalse\u001b[0m\u001b[1;33m)\u001b[0m\u001b[1;33m\u001b[0m\u001b[1;33m\u001b[0m\u001b[0m\n",
      "\u001b[1;31mNameError\u001b[0m: name 'test' is not defined"
     ]
    }
   ],
   "source": [
    "df_test = pd.DataFrame(X_test, columns=test.columns)\n",
    "df_test['target'] = y_test\n",
    "df_test.to_csv('../static/data/mnist_test.csv', index=False)"
   ]
  },
  {
   "cell_type": "code",
   "execution_count": 9,
   "metadata": {},
   "outputs": [
    {
     "output_type": "execute_result",
     "data": {
      "text/plain": [
       "MinMaxScaler()"
      ]
     },
     "metadata": {},
     "execution_count": 9
    }
   ],
   "source": [
    "scaler = MinMaxScaler()\n",
    "scaler.fit(X_train)"
   ]
  },
  {
   "cell_type": "code",
   "execution_count": 10,
   "metadata": {},
   "outputs": [
    {
     "output_type": "execute_result",
     "data": {
      "text/plain": [
       "((45000, 784), (15000, 784))"
      ]
     },
     "metadata": {},
     "execution_count": 10
    }
   ],
   "source": [
    "X_train_scaled = scaler.transform(X_train)\n",
    "X_test_scaled = scaler.transform(X_test)\n",
    "X_train_scaled.shape, X_test_scaled.shape"
   ]
  },
  {
   "cell_type": "code",
   "execution_count": 11,
   "metadata": {},
   "outputs": [
    {
     "output_type": "execute_result",
     "data": {
      "text/plain": [
       "['../static/model/mnist_scaler.pkl']"
      ]
     },
     "metadata": {},
     "execution_count": 11
    }
   ],
   "source": [
    "joblib.dump(scaler, '../static/model/mnist_scaler.pkl')"
   ]
  },
  {
   "cell_type": "code",
   "execution_count": 12,
   "metadata": {},
   "outputs": [
    {
     "output_type": "execute_result",
     "data": {
      "text/plain": [
       "{'C': 1.0,\n",
       " 'break_ties': False,\n",
       " 'cache_size': 200,\n",
       " 'class_weight': None,\n",
       " 'coef0': 0.0,\n",
       " 'decision_function_shape': 'ovr',\n",
       " 'degree': 3,\n",
       " 'gamma': 'scale',\n",
       " 'kernel': 'rbf',\n",
       " 'max_iter': -1,\n",
       " 'probability': False,\n",
       " 'random_state': None,\n",
       " 'shrinking': True,\n",
       " 'tol': 0.001,\n",
       " 'verbose': False}"
      ]
     },
     "metadata": {},
     "execution_count": 12
    }
   ],
   "source": [
    "sv_clf = SVC()\n",
    "sv_clf.get_params()"
   ]
  },
  {
   "cell_type": "code",
   "execution_count": 13,
   "metadata": {},
   "outputs": [],
   "source": [
    "params = {\n",
    "    #'C': [0.1, 1, 10]\n",
    "    'C': [5, 10, 20]\n",
    "}"
   ]
  },
  {
   "cell_type": "code",
   "execution_count": 14,
   "metadata": {},
   "outputs": [
    {
     "output_type": "stream",
     "name": "stdout",
     "text": [
      "Fitting 5 folds for each of 3 candidates, totalling 15 fits\n",
      "[Parallel(n_jobs=1)]: Using backend SequentialBackend with 1 concurrent workers.\n",
      "[Parallel(n_jobs=1)]: Done  15 out of  15 | elapsed: 52.4min finished\n",
      "최고 평균 정확도: 0.9815\n",
      "최적 파라미터: {'C': 10}\n"
     ]
    }
   ],
   "source": [
    "grid_cv = GridSearchCV(sv_clf, param_grid=params, scoring='accuracy', cv=5, \n",
    "                       verbose=1)\n",
    "grid_cv.fit(X_train_scaled, y_train)\n",
    "print(f'최고 평균 정확도: {grid_cv.best_score_:.4f}')\n",
    "print('최적 파라미터:', grid_cv.best_params_)"
   ]
  },
  {
   "cell_type": "code",
   "execution_count": 15,
   "metadata": {},
   "outputs": [
    {
     "output_type": "execute_result",
     "data": {
      "text/plain": [
       "0.9817333333333333"
      ]
     },
     "metadata": {},
     "execution_count": 15
    }
   ],
   "source": [
    "best_sv = grid_cv.best_estimator_\n",
    "pred = best_sv.predict(X_test_scaled)\n",
    "accuracy_score(y_test, pred)"
   ]
  },
  {
   "cell_type": "code",
   "execution_count": 16,
   "metadata": {},
   "outputs": [
    {
     "output_type": "execute_result",
     "data": {
      "text/plain": [
       "['../static/model/mnist_sv.pkl']"
      ]
     },
     "metadata": {},
     "execution_count": 16
    }
   ],
   "source": [
    "joblib.dump(best_sv, '../static/model/mnist_sv.pkl')"
   ]
  },
  {
   "source": [
    "### TEST"
   ],
   "cell_type": "markdown",
   "metadata": {}
  },
  {
   "cell_type": "code",
   "execution_count": 19,
   "metadata": {},
   "outputs": [],
   "source": [
    "scaler = joblib.load('../static/model/mnist_scaler.pkl')\n",
    "best_sv = joblib.load('../static/model/mnist_sv.pkl')"
   ]
  },
  {
   "cell_type": "code",
   "execution_count": 20,
   "metadata": {},
   "outputs": [
    {
     "output_type": "execute_result",
     "data": {
      "text/plain": [
       "(3, 784)"
      ]
     },
     "metadata": {},
     "execution_count": 20
    }
   ],
   "source": [
    "index = 900\n",
    "test_data = X_test.iloc[index:index+3, :].values\n",
    "test_data.shape"
   ]
  },
  {
   "cell_type": "code",
   "execution_count": 21,
   "metadata": {},
   "outputs": [],
   "source": [
    "test_scaled = scaler.transform(test_data)"
   ]
  },
  {
   "cell_type": "code",
   "execution_count": 22,
   "metadata": {},
   "outputs": [
    {
     "output_type": "execute_result",
     "data": {
      "text/plain": [
       "52050    8\n",
       "27321    7\n",
       "43026    4\n",
       "Name: label, dtype: int64"
      ]
     },
     "metadata": {},
     "execution_count": 22
    }
   ],
   "source": [
    "label_list = y_test[index:index+3]\n",
    "label_list"
   ]
  },
  {
   "cell_type": "code",
   "execution_count": 23,
   "metadata": {},
   "outputs": [
    {
     "output_type": "execute_result",
     "data": {
      "text/plain": [
       "array([8, 7, 4], dtype=int64)"
      ]
     },
     "metadata": {},
     "execution_count": 23
    }
   ],
   "source": [
    "pred_sv = best_sv.predict(test_scaled)\n",
    "pred_sv"
   ]
  },
  {
   "source": [
    "- 시각화하기"
   ],
   "cell_type": "markdown",
   "metadata": {}
  },
  {
   "cell_type": "code",
   "execution_count": 24,
   "metadata": {},
   "outputs": [
    {
     "output_type": "display_data",
     "data": {
      "text/plain": "<Figure size 288x288 with 1 Axes>",
      "image/svg+xml": "<?xml version=\"1.0\" encoding=\"utf-8\" standalone=\"no\"?>\r\n<!DOCTYPE svg PUBLIC \"-//W3C//DTD SVG 1.1//EN\"\r\n  \"http://www.w3.org/Graphics/SVG/1.1/DTD/svg11.dtd\">\r\n<!-- Created with matplotlib (https://matplotlib.org/) -->\r\n<svg height=\"235.34pt\" version=\"1.1\" viewBox=\"0 0 235.34 235.34\" width=\"235.34pt\" xmlns=\"http://www.w3.org/2000/svg\" xmlns:xlink=\"http://www.w3.org/1999/xlink\">\r\n <defs>\r\n  <style type=\"text/css\">\r\n*{stroke-linecap:butt;stroke-linejoin:round;}\r\n  </style>\r\n </defs>\r\n <g id=\"figure_1\">\r\n  <g id=\"patch_1\">\r\n   <path d=\"M 0 235.34 \r\nL 235.34 235.34 \r\nL 235.34 0 \r\nL 0 0 \r\nz\r\n\" style=\"fill:none;\"/>\r\n  </g>\r\n  <g id=\"axes_1\">\r\n   <g id=\"patch_2\">\r\n    <path d=\"M 10.7 224.64 \r\nL 228.14 224.64 \r\nL 228.14 7.2 \r\nL 10.7 7.2 \r\nz\r\n\" style=\"fill:#ffffff;\"/>\r\n   </g>\r\n   <g clip-path=\"url(#pcd1c5a3284)\">\r\n    <image height=\"218\" id=\"image72073fed53\" transform=\"scale(1 -1)translate(0 -218)\" width=\"218\" x=\"10.7\" xlink:href=\"data:image/png;base64,\r\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\" y=\"-6.64\"/>\r\n   </g>\r\n   <g id=\"matplotlib.axis_1\"/>\r\n   <g id=\"matplotlib.axis_2\"/>\r\n   <g id=\"patch_3\">\r\n    <path d=\"M 10.7 224.64 \r\nL 10.7 7.2 \r\n\" style=\"fill:none;stroke:#000000;stroke-linecap:square;stroke-linejoin:miter;stroke-width:0.8;\"/>\r\n   </g>\r\n   <g id=\"patch_4\">\r\n    <path d=\"M 228.14 224.64 \r\nL 228.14 7.2 \r\n\" style=\"fill:none;stroke:#000000;stroke-linecap:square;stroke-linejoin:miter;stroke-width:0.8;\"/>\r\n   </g>\r\n   <g id=\"patch_5\">\r\n    <path d=\"M 10.7 224.64 \r\nL 228.14 224.64 \r\n\" style=\"fill:none;stroke:#000000;stroke-linecap:square;stroke-linejoin:miter;stroke-width:0.8;\"/>\r\n   </g>\r\n   <g id=\"patch_6\">\r\n    <path d=\"M 10.7 7.2 \r\nL 228.14 7.2 \r\n\" style=\"fill:none;stroke:#000000;stroke-linecap:square;stroke-linejoin:miter;stroke-width:0.8;\"/>\r\n   </g>\r\n  </g>\r\n </g>\r\n <defs>\r\n  <clipPath id=\"pcd1c5a3284\">\r\n   <rect height=\"217.44\" width=\"217.44\" x=\"10.7\" y=\"7.2\"/>\r\n  </clipPath>\r\n </defs>\r\n</svg>\r\n",
      "image/png": "[encoded data removed]"
     },
     "metadata": {}
    },
    {
     "output_type": "display_data",
     "data": {
      "text/plain": "<Figure size 288x288 with 1 Axes>",
      "image/svg+xml": "<?xml version=\"1.0\" encoding=\"utf-8\" standalone=\"no\"?>\r\n<!DOCTYPE svg PUBLIC \"-//W3C//DTD SVG 1.1//EN\"\r\n  \"http://www.w3.org/Graphics/SVG/1.1/DTD/svg11.dtd\">\r\n<!-- Created with matplotlib (https://matplotlib.org/) -->\r\n<svg height=\"235.34pt\" version=\"1.1\" viewBox=\"0 0 235.34 235.34\" width=\"235.34pt\" xmlns=\"http://www.w3.org/2000/svg\" xmlns:xlink=\"http://www.w3.org/1999/xlink\">\r\n <defs>\r\n  <style type=\"text/css\">\r\n*{stroke-linecap:butt;stroke-linejoin:round;}\r\n  </style>\r\n </defs>\r\n <g id=\"figure_1\">\r\n  <g id=\"patch_1\">\r\n   <path d=\"M 0 235.34 \r\nL 235.34 235.34 \r\nL 235.34 0 \r\nL 0 0 \r\nz\r\n\" style=\"fill:none;\"/>\r\n  </g>\r\n  <g id=\"axes_1\">\r\n   <g id=\"patch_2\">\r\n    <path d=\"M 10.7 224.64 \r\nL 228.14 224.64 \r\nL 228.14 7.2 \r\nL 10.7 7.2 \r\nz\r\n\" style=\"fill:#ffffff;\"/>\r\n   </g>\r\n   <g clip-path=\"url(#p72bed7af3c)\">\r\n    <image height=\"218\" id=\"imageb241802674\" transform=\"scale(1 -1)translate(0 -218)\" width=\"218\" x=\"10.7\" xlink:href=\"data:image/png;base64,\r\niVBORw0KGgoAAAANSUhEUgAAANoAAADaCAYAAADAHVzbAAAABHNCSVQICAgIfAhkiAAABIxJREFUeJzt3TFrlEsYgNHkcrGwEVIoQRCrtBHbgFhaCNoJ/gI7f4YIUbBOpWBlY5FaEIRgqaWVUQsbK1vJ3uqWOxt34xM3e077Ml8mkIeBDN/u+mQymawBf9Q/p70BWAVCg4DQICA0CAgNAkKDgNAg8O9pb4CTd3BwMJzv7OzM/eyjo6O5164yJxoEhAYBoUFAaBAQGgSEBgGhQUBoEBAaBIQGAaFBQGgQEBoEhAYBr8ksoR8/fgznjx49inbCcTnRICA0CAgNAkKDgNAgIDQICA0C7tGW0Js3b4bz/f39aCcclxMNAkKDgNAgIDQICA0CQoOA0CDgHm0JbW9vD+dXrlwZzg8PD09yOxyDEw0CQoOA0CAgNAgIDQJCg4DQIOAebQltbW0N55ubm8P5ly9fTnI7HIMTDQJCg4DQICA0CAgNAkKDgNAg4B7tDLp27dpw/v79+2gn/M+JBgGhQUBoEBAaBIQGAaFBYH0ymUxOexOcrIODg+F8Z2dn7mcfHR3NvXaVOdEgIDQICA0CQoOA0CAgNAgIDQJek+G3vH79eji/e/dutJPl4kSDgNAgIDQICA0CQoOA0CAgNAi4R1tBXkHsOdEgIDQICA0CQoOA0CAgNAgIDQI+1/EM+vz583B+69atqbNPnz4N1/pcx/k40SAgNAgIDQJCg4DQICA0CHhN5gy6evXqcL69vT11Nuvf+8zHiQYBoUFAaBAQGgSEBgGhQUBoEHCPxm959uzZcP7w4cNoJ8vFiQYBoUFAaBAQGgSEBgGhQUBoEHCPxm85PDw87S0sJScaBIQGAaFBQGgQEBoEhAYBoUHAPdoKGn1Tl2/x+jOcaBAQGgSEBgGhQUBoEBAaBIQGgfXJEl+c7O/vT509efJkoWffuXNnOL93795wvrm5udDP/5NGe3/16tVw7aw/l2/fvg3nly9fHs7PKicaBIQGAaFBQGgQEBoEhAaBpX5N5sWLF1Nnb9++Ha6d9W/qWesfP348nJ87d244H9nd3R3O19fX53722tra2tevX+dee/PmzeH8woULcz/7LHOiQUBoEBAaBIQGAaFBQGgQEBoElvo1mXfv3k2d3bhxY7h21q+96F3VIv7mvV26dGk4//Dhw3B+8eLFk9zO0nCiQUBoEBAaBIQGAaFBQGgQEBoElvp9tOvXr0+d3b9/f7j25cuXw/n58+eH842NjeH8169fU2ffv38frv2bPXjwYDhf1XuyWZxoEBAaBIQGAaFBQGgQEBoEhAaBpX4fbRFPnz4dzre2tobz27dvD+c/f/6cOtvb2xuuneXjx4/D+fPnzxd6/siK/rkszIkGAaFBQGgQEBoEhAYBoUFAaBBY2Xs0KDnRICA0CAgNAkKDgNAgIDQICA0CQoOA0CAgNAgIDQJCg4DQICA0CAgNAkKDgNAgIDQICA0CQoOA0CAgNAgIDQJCg4DQICA0CAgNAkKDgNAgIDQICA0CQoOA0CAgNAgIDQJCg4DQICA0CAgNAkKDgNAgIDQICA0CQoOA0CAgNAgIDQJCg4DQICA0CAgNAkKDgNAg8B9JkZ+tTSeHTQAAAABJRU5ErkJggg==\" y=\"-6.64\"/>\r\n   </g>\r\n   <g id=\"matplotlib.axis_1\"/>\r\n   <g id=\"matplotlib.axis_2\"/>\r\n   <g id=\"patch_3\">\r\n    <path d=\"M 10.7 224.64 \r\nL 10.7 7.2 \r\n\" style=\"fill:none;stroke:#000000;stroke-linecap:square;stroke-linejoin:miter;stroke-width:0.8;\"/>\r\n   </g>\r\n   <g id=\"patch_4\">\r\n    <path d=\"M 228.14 224.64 \r\nL 228.14 7.2 \r\n\" style=\"fill:none;stroke:#000000;stroke-linecap:square;stroke-linejoin:miter;stroke-width:0.8;\"/>\r\n   </g>\r\n   <g id=\"patch_5\">\r\n    <path d=\"M 10.7 224.64 \r\nL 228.14 224.64 \r\n\" style=\"fill:none;stroke:#000000;stroke-linecap:square;stroke-linejoin:miter;stroke-width:0.8;\"/>\r\n   </g>\r\n   <g id=\"patch_6\">\r\n    <path d=\"M 10.7 7.2 \r\nL 228.14 7.2 \r\n\" style=\"fill:none;stroke:#000000;stroke-linecap:square;stroke-linejoin:miter;stroke-width:0.8;\"/>\r\n   </g>\r\n  </g>\r\n </g>\r\n <defs>\r\n  <clipPath id=\"p72bed7af3c\">\r\n   <rect height=\"217.44\" width=\"217.44\" x=\"10.7\" y=\"7.2\"/>\r\n  </clipPath>\r\n </defs>\r\n</svg>\r\n",
      "image/png": "[encoded data removed]"
     },
     "metadata": {}
    },
    {
     "output_type": "display_data",
     "data": {
      "text/plain": "<Figure size 288x288 with 1 Axes>",
      "image/svg+xml": "<?xml version=\"1.0\" encoding=\"utf-8\" standalone=\"no\"?>\r\n<!DOCTYPE svg PUBLIC \"-//W3C//DTD SVG 1.1//EN\"\r\n  \"http://www.w3.org/Graphics/SVG/1.1/DTD/svg11.dtd\">\r\n<!-- Created with matplotlib (https://matplotlib.org/) -->\r\n<svg height=\"235.34pt\" version=\"1.1\" viewBox=\"0 0 235.34 235.34\" width=\"235.34pt\" xmlns=\"http://www.w3.org/2000/svg\" xmlns:xlink=\"http://www.w3.org/1999/xlink\">\r\n <defs>\r\n  <style type=\"text/css\">\r\n*{stroke-linecap:butt;stroke-linejoin:round;}\r\n  </style>\r\n </defs>\r\n <g id=\"figure_1\">\r\n  <g id=\"patch_1\">\r\n   <path d=\"M 0 235.34 \r\nL 235.34 235.34 \r\nL 235.34 0 \r\nL 0 0 \r\nz\r\n\" style=\"fill:none;\"/>\r\n  </g>\r\n  <g id=\"axes_1\">\r\n   <g id=\"patch_2\">\r\n    <path d=\"M 10.7 224.64 \r\nL 228.14 224.64 \r\nL 228.14 7.2 \r\nL 10.7 7.2 \r\nz\r\n\" style=\"fill:#ffffff;\"/>\r\n   </g>\r\n   <g clip-path=\"url(#pc459dbe679)\">\r\n    <image height=\"218\" id=\"image9640fdc152\" transform=\"scale(1 -1)translate(0 -218)\" width=\"218\" x=\"10.7\" xlink:href=\"data:image/png;base64,\r\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\" y=\"-6.64\"/>\r\n   </g>\r\n   <g id=\"matplotlib.axis_1\"/>\r\n   <g id=\"matplotlib.axis_2\"/>\r\n   <g id=\"patch_3\">\r\n    <path d=\"M 10.7 224.64 \r\nL 10.7 7.2 \r\n\" style=\"fill:none;stroke:#000000;stroke-linecap:square;stroke-linejoin:miter;stroke-width:0.8;\"/>\r\n   </g>\r\n   <g id=\"patch_4\">\r\n    <path d=\"M 228.14 224.64 \r\nL 228.14 7.2 \r\n\" style=\"fill:none;stroke:#000000;stroke-linecap:square;stroke-linejoin:miter;stroke-width:0.8;\"/>\r\n   </g>\r\n   <g id=\"patch_5\">\r\n    <path d=\"M 10.7 224.64 \r\nL 228.14 224.64 \r\n\" style=\"fill:none;stroke:#000000;stroke-linecap:square;stroke-linejoin:miter;stroke-width:0.8;\"/>\r\n   </g>\r\n   <g id=\"patch_6\">\r\n    <path d=\"M 10.7 7.2 \r\nL 228.14 7.2 \r\n\" style=\"fill:none;stroke:#000000;stroke-linecap:square;stroke-linejoin:miter;stroke-width:0.8;\"/>\r\n   </g>\r\n  </g>\r\n </g>\r\n <defs>\r\n  <clipPath id=\"pc459dbe679\">\r\n   <rect height=\"217.44\" width=\"217.44\" x=\"10.7\" y=\"7.2\"/>\r\n  </clipPath>\r\n </defs>\r\n</svg>\r\n",
      "image/png": "[encoded data removed]"
     },
     "metadata": {}
    }
   ],
   "source": [
    "for i in range(3):\n",
    "    digit = test_data[i].reshape(28,28)\n",
    "    plt.figure(figsize=(4,4))\n",
    "    plt.xticks([]); plt.yticks([])\n",
    "    plt.imshow(digit, cmap=plt.cm.binary, interpolation='nearest')"
   ]
  },
  {
   "cell_type": "code",
   "execution_count": 25,
   "metadata": {},
   "outputs": [
    {
     "output_type": "display_data",
     "data": {
      "text/plain": "<Figure size 288x288 with 1 Axes>",
      "image/svg+xml": "<?xml version=\"1.0\" encoding=\"utf-8\" standalone=\"no\"?>\r\n<!DOCTYPE svg PUBLIC \"-//W3C//DTD SVG 1.1//EN\"\r\n  \"http://www.w3.org/Graphics/SVG/1.1/DTD/svg11.dtd\">\r\n<!-- Created with matplotlib (https://matplotlib.org/) -->\r\n<svg height=\"235.34pt\" version=\"1.1\" viewBox=\"0 0 235.34 235.34\" width=\"235.34pt\" xmlns=\"http://www.w3.org/2000/svg\" xmlns:xlink=\"http://www.w3.org/1999/xlink\">\r\n <defs>\r\n  <style type=\"text/css\">\r\n*{stroke-linecap:butt;stroke-linejoin:round;}\r\n  </style>\r\n </defs>\r\n <g id=\"figure_1\">\r\n  <g id=\"patch_1\">\r\n   <path d=\"M 0 235.34 \r\nL 235.34 235.34 \r\nL 235.34 0 \r\nL 0 0 \r\nz\r\n\" style=\"fill:none;\"/>\r\n  </g>\r\n  <g id=\"axes_1\">\r\n   <g id=\"patch_2\">\r\n    <path d=\"M 10.7 224.64 \r\nL 228.14 224.64 \r\nL 228.14 7.2 \r\nL 10.7 7.2 \r\nz\r\n\" style=\"fill:#ffffff;\"/>\r\n   </g>\r\n   <g clip-path=\"url(#p2579a1048a)\">\r\n    <image height=\"218\" id=\"image1f2d2fd89f\" transform=\"scale(1 -1)translate(0 -218)\" width=\"218\" x=\"10.7\" xlink:href=\"data:image/png;base64,\r\niVBORw0KGgoAAAANSUhEUgAAANoAAADaCAYAAADAHVzbAAAABHNCSVQICAgIfAhkiAAABk1JREFUeJzt3UuIjv0fx3Hj0GSaRFlYyGZCUoykqceUhVOKbCwsZGElJQmFBbEiiYWFbGZhMWosLTSzsKTQLChNKacNShZOOTX/9dP/f33v/mbmM2bm9dp+uu7nqqe3X83Vdd9to6Ojo7OACTV7sm8AZgKhQYDQIEBoECA0CBAaBAgNAoQGAUKDAKFBgNAgQGgQIDQIEBoECA0ChAYBQoMAoUGA0CBAaBAgNAgQGgTMnewbmKp+/fpV7levXm3czp07V177+fPnct+0aVO5b9++vdyPHz/euM2bN6+8lj/jRIMAoUGA0CBAaBAgNAgQGgQIDQLa/GzTn+nr6yv3AwcOhO7k/7d169bG7cyZM+W1vb294307M4ITDQKEBgFCgwChQYDQIEBoECA0CPAcrcGXL1/KfcOGDeX+7Nmzxm3hwoXltYsXLy73Vu/CvXz5stwr3d3d5T48PPzHnz2TOdEgQGgQIDQIEBoECA0ChAYBQoMA3+vYYGBgoNyr52StnDhxotxPnz5d7l+/fi33np6ecn/69Gm5M/6caBAgNAgQGgQIDQKEBgFCgwChQYDnaA1a/UbZWIz1Ox87OjrK/dGjR+W+a9euxu3Vq1fltR8/fiz3RYsWlftM5USDAKFBgNAgQGgQIDQIEBoE+PN+g66ursm+hT/W3t5e7kuXLm3choaGymv7+/vL/dChQ+U+UznRIEBoECA0CBAaBAgNAoQGAUKDAM/RGmzcuLHcV65cWe4jIyONW6uvk7tx40a5z507ef/bbt26Ve6eo/1vTjQIEBoECA0ChAYBQoMAoUGA0CDAc7QGCxYsKPejR4+W+8GDBxu3vr6+8trVq1eX+7Fjx8qdv48TDQKEBgFCgwChQYDQIEBoECA0CGgbHR0dneybmIq+fftW7vv372/cbt++XV7b2dlZ7vfu3Sv3VatWlfuWLVsatwcPHpTXDgwMlPuePXvKfaZyokGA0CBAaBAgNAgQGgQIDQL8eX+C/Pz5s3GrfjZp1qxZs96/f1/u8+fPL/cjR46U+4ULFxq3NWvWlNc+fvy43Cfzq/D+Zk40CBAaBAgNAoQGAUKDAKFBgNAgwHO0SfDw4cNy7+3tLfcfP36M5+38S3d3d7kPDw9P2H97OnOiQYDQIEBoECA0CBAaBAgNAoQGAV4emgStfpZp06ZN5T40NDSet/Mv27Ztm7DPnsmcaBAgNAgQGgQIDQKEBgFCgwChQYDnaH/o8+fP5T44ONi4Xbp0qby21U8nTaQ3b96U+9evX8u9o6NjPG9n2nCiQYDQIEBoECA0CBAaBAgNAoQGAdP2OdqLFy/K/eTJk2P6/NevX5f7RD4LW7t2bbn//v273J8+fdq49ff3l9fOnl3/23z9+vVy7+zsLPfpyokGAUKDAKFBgNAgQGgQIDQImLY/29Tqz/cXL14M3cl/6+npKfdTp06V++7du8v9+/fv5b5r167GbaxfZdfq8cDevXvH9PlTlRMNAoQGAUKDAKFBgNAgQGgQIDQImLavyfzzzz+TfQuN2trayr2rq2tMn9/e3l7u58+fb9yePHlSXvv27dtyP3ToULmvX7++cVu+fHl57VTmRIMAoUGA0CBAaBAgNAgQGgQIDQKm7ftorX5eaGRkpNxv3rxZ7vfv3y/3sXzd3JIlS8q91TtdmzdvLvedO3c2bnfv3i2v3bFjR7m3Ur2vNp3fVXOiQYDQIEBoECA0CBAaBAgNAoQGAdP2fbSOjo5yX7du3Zj2T58+lfvg4GDjtm/fvvLaVu98Xb16tdyvXbtW7ocPH27cFixYUF47Vs+fP5/Qz/9bOdEgQGgQIDQIEBoECA0ChAYBQoOAafs+2t/s3bt35d7qt9uuXLkynrcTNTw83Lh1d3cH7yTLiQYBQoMAoUGA0CBAaBAgNAjw5/0p6MOHD+V++fLlcr9z507j1tnZWV67bNmycj979my5r1ixonGbM2dOee1U5kSDAKFBgNAgQGgQIDQIEBoECA0CPEeDACcaBAgNAoQGAUKDAKFBgNAgQGgQIDQIEBoECA0ChAYBQoMAoUGA0CBAaBAgNAgQGgQIDQKEBgFCgwChQYDQIEBoECA0CBAaBAgNAoQGAUKDAKFBgNAgQGgQIDQIEBoECA0ChAYBQoMAoUGA0CDgP/UfG2PYrOP8AAAAAElFTkSuQmCC\" y=\"-6.64\"/>\r\n   </g>\r\n   <g id=\"matplotlib.axis_1\"/>\r\n   <g id=\"matplotlib.axis_2\"/>\r\n   <g id=\"patch_3\">\r\n    <path d=\"M 10.7 224.64 \r\nL 10.7 7.2 \r\n\" style=\"fill:none;stroke:#000000;stroke-linecap:square;stroke-linejoin:miter;stroke-width:0.8;\"/>\r\n   </g>\r\n   <g id=\"patch_4\">\r\n    <path d=\"M 228.14 224.64 \r\nL 228.14 7.2 \r\n\" style=\"fill:none;stroke:#000000;stroke-linecap:square;stroke-linejoin:miter;stroke-width:0.8;\"/>\r\n   </g>\r\n   <g id=\"patch_5\">\r\n    <path d=\"M 10.7 224.64 \r\nL 228.14 224.64 \r\n\" style=\"fill:none;stroke:#000000;stroke-linecap:square;stroke-linejoin:miter;stroke-width:0.8;\"/>\r\n   </g>\r\n   <g id=\"patch_6\">\r\n    <path d=\"M 10.7 7.2 \r\nL 228.14 7.2 \r\n\" style=\"fill:none;stroke:#000000;stroke-linecap:square;stroke-linejoin:miter;stroke-width:0.8;\"/>\r\n   </g>\r\n  </g>\r\n </g>\r\n <defs>\r\n  <clipPath id=\"p2579a1048a\">\r\n   <rect height=\"217.44\" width=\"217.44\" x=\"10.7\" y=\"7.2\"/>\r\n  </clipPath>\r\n </defs>\r\n</svg>\r\n",
      "image/png": "[encoded data removed]"
     },
     "metadata": {}
    }
   ],
   "source": [
    "plt.figure(figsize=(4,4))\n",
    "plt.xticks([]); plt.yticks([])\n",
    "plt.imshow(test_data[0].reshape(28,28), cmap=plt.cm.binary, interpolation='nearest')\n",
    "plt.show()"
   ]
  },
  {
   "cell_type": "code",
   "execution_count": 26,
   "metadata": {},
   "outputs": [
    {
     "output_type": "display_data",
     "data": {
      "text/plain": "<Figure size 864x288 with 3 Axes>",
      "image/svg+xml": "<?xml version=\"1.0\" encoding=\"utf-8\" standalone=\"no\"?>\r\n<!DOCTYPE svg PUBLIC \"-//W3C//DTD SVG 1.1//EN\"\r\n  \"http://www.w3.org/Graphics/SVG/1.1/DTD/svg11.dtd\">\r\n<!-- Created with matplotlib (https://matplotlib.org/) -->\r\n<svg height=\"226.092771pt\" version=\"1.1\" viewBox=\"0 0 663.29759 226.092771\" width=\"663.29759pt\" xmlns=\"http://www.w3.org/2000/svg\" xmlns:xlink=\"http://www.w3.org/1999/xlink\">\r\n <defs>\r\n  <style type=\"text/css\">\r\n*{stroke-linecap:butt;stroke-linejoin:round;}\r\n  </style>\r\n </defs>\r\n <g id=\"figure_1\">\r\n  <g id=\"patch_1\">\r\n   <path d=\"M 0 226.092771 \r\nL 663.29759 226.092771 \r\nL 663.29759 0 \r\nL 0 0 \r\nz\r\n\" style=\"fill:none;\"/>\r\n  </g>\r\n  <g id=\"axes_1\">\r\n   <g id=\"patch_2\">\r\n    <path d=\"M 10.7 215.392771 \r\nL 218.892771 215.392771 \r\nL 218.892771 7.2 \r\nL 10.7 7.2 \r\nz\r\n\" style=\"fill:#ffffff;\"/>\r\n   </g>\r\n   <g clip-path=\"url(#pf992545983)\">\r\n    <image height=\"209\" id=\"image70d2d81659\" transform=\"scale(1 -1)translate(0 -209)\" width=\"209\" x=\"10.7\" xlink:href=\"data:image/png;base64,\r\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\" y=\"-6.392771\"/>\r\n   </g>\r\n   <g id=\"matplotlib.axis_1\"/>\r\n   <g id=\"matplotlib.axis_2\"/>\r\n   <g id=\"patch_3\">\r\n    <path d=\"M 10.7 215.392771 \r\nL 10.7 7.2 \r\n\" style=\"fill:none;stroke:#000000;stroke-linecap:square;stroke-linejoin:miter;stroke-width:0.8;\"/>\r\n   </g>\r\n   <g id=\"patch_4\">\r\n    <path d=\"M 218.892771 215.392771 \r\nL 218.892771 7.2 \r\n\" style=\"fill:none;stroke:#000000;stroke-linecap:square;stroke-linejoin:miter;stroke-width:0.8;\"/>\r\n   </g>\r\n   <g id=\"patch_5\">\r\n    <path d=\"M 10.7 215.392771 \r\nL 218.892771 215.392771 \r\n\" style=\"fill:none;stroke:#000000;stroke-linecap:square;stroke-linejoin:miter;stroke-width:0.8;\"/>\r\n   </g>\r\n   <g id=\"patch_6\">\r\n    <path d=\"M 10.7 7.2 \r\nL 218.892771 7.2 \r\n\" style=\"fill:none;stroke:#000000;stroke-linecap:square;stroke-linejoin:miter;stroke-width:0.8;\"/>\r\n   </g>\r\n  </g>\r\n  <g id=\"axes_2\">\r\n   <g id=\"patch_7\">\r\n    <path d=\"M 229.30241 215.392771 \r\nL 437.495181 215.392771 \r\nL 437.495181 7.2 \r\nL 229.30241 7.2 \r\nz\r\n\" style=\"fill:#ffffff;\"/>\r\n   </g>\r\n   <g clip-path=\"url(#pfd0740589b)\">\r\n    <image height=\"209\" id=\"imagedd1f53e1d4\" transform=\"scale(1 -1)translate(0 -209)\" width=\"209\" x=\"229.30241\" xlink:href=\"data:image/png;base64,\r\niVBORw0KGgoAAAANSUhEUgAAANEAAADRCAYAAABSOlfvAAAABHNCSVQICAgIfAhkiAAABFtJREFUeJzt3aFKdFscxmE9HAyWDwzKIIhp6ohVEKNB0CZ4BTYvQwQVzCYFk8VgFgRhMGo0OWqwmKwyc27AtfyY16Mz+jz1z9ouYX4s2Js9M9rr9XojQN/++e4NwLATEYREBCERQUhEEBIRhP797g2QabfbxdnCwkLf1+12u32v/W2cRBASEYREBCERQUhEEBIRhEQEIRFBSEQQEhGERAQhEUFIRBASEYS8CjHgXl5eqvPt7e0v2gklTiIIiQhCIoKQiCAkIgiJCEIigpDnRAPu4uKiOj8/P/+inVDiJIKQiCAkIgiJCEIigpCIIOQW94BrtVrV+czMTHHW6XQ+ezu8w0kEIRFBSEQQEhGERAQhEUFIRBDynGjANZvN6rzRaBRnDw8Pn70d3uEkgpCIICQiCIkIQiKCkIgg5Bb3kJubmyvOrq+vv3Anv5eTCEIigpCIICQiCIkIQiKCkIggNNrr9XrfvQn61263i7OFhYW+r9vtdvte+9s4iSAkIgiJCEIigpCIICQiCHkVgnednZ1V52tra1+0k8HnJIKQiCAkIgiJCEIigpCIICQiCHlO9IN5y+VrOIkgJCIIiQhCIoKQiCAkIgj5tp8hd39/X5wtLy9X197d3RVnvu3n7zmJICQiCIkIQiKCkIggJCIIiQhCXoUYcrOzs8VZq9Wqrq09J+LvOYkgJCIIiQhCIoKQiCAkIgi5xc27Dg4OqvOtra0v2sngcxJBSEQQEhGERAQhEUFIRBASEYQ8J+JdnU7nu7cwNJxEEBIRhEQEIRFBSEQQEhGE3OL+wT76wQ8/CPI5nEQQEhGERAQhEUFIRBASEYSG8oePz8/Pi7O9vb2+r7u6ulqdr6+vF2eNRqPvv/t/qe13ZGRk5PT0tDj76GPx9PRUnE1PT9c39sM4iSAkIgiJCEIigpCIICQiCIkIQkP5KsTx8XFxdnl5WV1be/7x0dqdnZ3ibGxsrLq2Znd3tzgbHR3t+7qPj499r11aWqrO//z50/e1fxonEYREBCERQUhEEBIRhEQEoaF8FeLq6qo4W1xcrK6t/bvJ7eTEIO5pamqqOr+5uSnOJicnP3s7A81JBCERQUhEEBIRhEQEIRFBSEQQGspXIebn54uzjY2N6tqTk5PibHx8vLp2YmKiOHt7e6uufX5+rs4HzebmZnX+254F1TiJICQiCIkIQiKCkIggJCIIDeWrEIn9/f3irNlsVteurKwUZ6+vr9W1h4eH9Y0V3N7eVudHR0d9Xfcjv+xjEXESQUhEEBIRhEQEIRFBSEQQEhGEft1zIvhsTiIIiQhCIoKQiCAkIgiJCEIigpCIICQiCIkIQiKCkIggJCIIiQhCIoKQiCAkIgiJCEIigpCIICQiCIkIQiKCkIggJCIIiQhCIoKQiCAkIgiJCEIigpCIICQiCIkIQiKCkIggJCIIiQhCIoKQiCAkIgiJCEIigpCIICQiCIkIQiKCkIggJCIIiQhCIoLQfxSzn5uMJbcMAAAAAElFTkSuQmCC\" y=\"-6.392771\"/>\r\n   </g>\r\n   <g id=\"matplotlib.axis_3\"/>\r\n   <g id=\"matplotlib.axis_4\"/>\r\n   <g id=\"patch_8\">\r\n    <path d=\"M 229.30241 215.392771 \r\nL 229.30241 7.2 \r\n\" style=\"fill:none;stroke:#000000;stroke-linecap:square;stroke-linejoin:miter;stroke-width:0.8;\"/>\r\n   </g>\r\n   <g id=\"patch_9\">\r\n    <path d=\"M 437.495181 215.392771 \r\nL 437.495181 7.2 \r\n\" style=\"fill:none;stroke:#000000;stroke-linecap:square;stroke-linejoin:miter;stroke-width:0.8;\"/>\r\n   </g>\r\n   <g id=\"patch_10\">\r\n    <path d=\"M 229.30241 215.392771 \r\nL 437.495181 215.392771 \r\n\" style=\"fill:none;stroke:#000000;stroke-linecap:square;stroke-linejoin:miter;stroke-width:0.8;\"/>\r\n   </g>\r\n   <g id=\"patch_11\">\r\n    <path d=\"M 229.30241 7.2 \r\nL 437.495181 7.2 \r\n\" style=\"fill:none;stroke:#000000;stroke-linecap:square;stroke-linejoin:miter;stroke-width:0.8;\"/>\r\n   </g>\r\n  </g>\r\n  <g id=\"axes_3\">\r\n   <g id=\"patch_12\">\r\n    <path d=\"M 447.904819 215.392771 \r\nL 656.09759 215.392771 \r\nL 656.09759 7.2 \r\nL 447.904819 7.2 \r\nz\r\n\" style=\"fill:#ffffff;\"/>\r\n   </g>\r\n   <g clip-path=\"url(#p4bd8395b22)\">\r\n    <image height=\"209\" id=\"image5213b4bf00\" transform=\"scale(1 -1)translate(0 -209)\" width=\"209\" x=\"447.904819\" xlink:href=\"data:image/png;base64,\r\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\" y=\"-6.392771\"/>\r\n   </g>\r\n   <g id=\"matplotlib.axis_5\"/>\r\n   <g id=\"matplotlib.axis_6\"/>\r\n   <g id=\"patch_13\">\r\n    <path d=\"M 447.904819 215.392771 \r\nL 447.904819 7.2 \r\n\" style=\"fill:none;stroke:#000000;stroke-linecap:square;stroke-linejoin:miter;stroke-width:0.8;\"/>\r\n   </g>\r\n   <g id=\"patch_14\">\r\n    <path d=\"M 656.09759 215.392771 \r\nL 656.09759 7.2 \r\n\" style=\"fill:none;stroke:#000000;stroke-linecap:square;stroke-linejoin:miter;stroke-width:0.8;\"/>\r\n   </g>\r\n   <g id=\"patch_15\">\r\n    <path d=\"M 447.904819 215.392771 \r\nL 656.09759 215.392771 \r\n\" style=\"fill:none;stroke:#000000;stroke-linecap:square;stroke-linejoin:miter;stroke-width:0.8;\"/>\r\n   </g>\r\n   <g id=\"patch_16\">\r\n    <path d=\"M 447.904819 7.2 \r\nL 656.09759 7.2 \r\n\" style=\"fill:none;stroke:#000000;stroke-linecap:square;stroke-linejoin:miter;stroke-width:0.8;\"/>\r\n   </g>\r\n  </g>\r\n </g>\r\n <defs>\r\n  <clipPath id=\"pf992545983\">\r\n   <rect height=\"208.192771\" width=\"208.192771\" x=\"10.7\" y=\"7.2\"/>\r\n  </clipPath>\r\n  <clipPath id=\"pfd0740589b\">\r\n   <rect height=\"208.192771\" width=\"208.192771\" x=\"229.30241\" y=\"7.2\"/>\r\n  </clipPath>\r\n  <clipPath id=\"p4bd8395b22\">\r\n   <rect height=\"208.192771\" width=\"208.192771\" x=\"447.904819\" y=\"7.2\"/>\r\n  </clipPath>\r\n </defs>\r\n</svg>\r\n",
      "image/png": "[encoded data removed]"
     },
     "metadata": {}
    }
   ],
   "source": [
    "fig = plt.figure(figsize=(12, 4))  \n",
    "fig.subplots_adjust(left=0, right=1, bottom=0, top=1, hspace=0.05, wspace=0.05)\n",
    "\n",
    "for i in range(3):\n",
    "    ax = fig.add_subplot(1, 4, i + 1, xticks=[], yticks=[])\n",
    "    ax.imshow(test_data[i].reshape(28,28), cmap=plt.cm.binary, interpolation='nearest')"
   ]
  },
  {
   "cell_type": "code",
   "execution_count": null,
   "metadata": {},
   "outputs": [],
   "source": []
  }
 ]
}